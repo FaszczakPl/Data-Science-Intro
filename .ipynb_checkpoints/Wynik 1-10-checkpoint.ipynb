{
 "cells": [
  {
   "cell_type": "code",
   "execution_count": 30,
   "id": "e07d4af9-7cfb-4c66-a62b-16d330591137",
   "metadata": {},
   "outputs": [
    {
     "name": "stdout",
     "output_type": "stream",
     "text": [
      "2.3.3\n"
     ]
    }
   ],
   "source": [
    "%run cw0.py"
   ]
  },
  {
   "cell_type": "code",
   "execution_count": 31,
   "id": "f8ebe692-98d9-4b6d-8849-c6490b091b9d",
   "metadata": {},
   "outputs": [
    {
     "name": "stdout",
     "output_type": "stream",
     "text": [
      "A:True\n",
      "B:False\n",
      "C:False\n",
      "D:True\n"
     ]
    }
   ],
   "source": [
    "%run cw1.py"
   ]
  },
  {
   "cell_type": "code",
   "execution_count": 32,
   "id": "0f2042d3-5869-4e8e-9a02-22c93311478c",
   "metadata": {},
   "outputs": [
    {
     "name": "stdout",
     "output_type": "stream",
     "text": [
      "A: [ True  True]\n",
      "B: [ True False]\n",
      "C: [False  True]\n"
     ]
    }
   ],
   "source": [
    "%run cw2.py"
   ]
  },
  {
   "cell_type": "code",
   "execution_count": 33,
   "id": "3c93007e-57fc-4e9c-8f64-0d8666eacf94",
   "metadata": {},
   "outputs": [
    {
     "name": "stdout",
     "output_type": "stream",
     "text": [
      "A:False\n",
      "B:True\n",
      "C:True\n",
      "D:True\n"
     ]
    }
   ],
   "source": [
    "%run cw3.py"
   ]
  },
  {
   "cell_type": "code",
   "execution_count": 34,
   "id": "303016fb-f2ee-4e14-9e6c-1822b32d6ad7",
   "metadata": {},
   "outputs": [
    {
     "name": "stdout",
     "output_type": "stream",
     "text": [
      "A:[False False False]\n",
      "B:[False  True False]\n",
      "C:[ True False False]\n",
      "D:[ True False]\n"
     ]
    }
   ],
   "source": [
    "%run cw4.py"
   ]
  },
  {
   "cell_type": "code",
   "execution_count": 35,
   "id": "b4df71a1-a2e6-428c-8978-ea2bd271ae2f",
   "metadata": {},
   "outputs": [
    {
     "name": "stdout",
     "output_type": "stream",
     "text": [
      "[False False False  True]\n",
      "[False  True False False]\n"
     ]
    }
   ],
   "source": [
    "%run cw5.py"
   ]
  },
  {
   "cell_type": "code",
   "execution_count": 36,
   "id": "3adc19f1-576b-4c34-bd23-29876c0723ca",
   "metadata": {},
   "outputs": [
    {
     "name": "stdout",
     "output_type": "stream",
     "text": [
      "True\n"
     ]
    }
   ],
   "source": [
    "%run cw6.py"
   ]
  },
  {
   "cell_type": "code",
   "execution_count": 40,
   "id": "e4ae0da0-263e-4447-af76-b2edd8145dd3",
   "metadata": {},
   "outputs": [
    {
     "name": "stdout",
     "output_type": "stream",
     "text": [
      "False\n",
      "False\n",
      "True\n",
      "[False False  True]\n"
     ]
    }
   ],
   "source": [
    "%run cw7.py"
   ]
  },
  {
   "cell_type": "code",
   "execution_count": 41,
   "id": "02a7336d-2d84-402d-a015-e7188b0ede7d",
   "metadata": {},
   "outputs": [
    {
     "name": "stdout",
     "output_type": "stream",
     "text": [
      "[ True False False False]\n"
     ]
    }
   ],
   "source": [
    "%run cw8.py"
   ]
  },
  {
   "cell_type": "code",
   "execution_count": 43,
   "id": "c131e35e-5a6c-4ab2-a185-2e843b5b6c44",
   "metadata": {},
   "outputs": [
    {
     "name": "stdout",
     "output_type": "stream",
     "text": [
      "[[0 0 0 0]\n",
      " [0 0 0 0]\n",
      " [0 0 0 0]\n",
      " [0 0 0 0]]\n"
     ]
    }
   ],
   "source": [
    "%run cw9.py"
   ]
  },
  {
   "cell_type": "code",
   "execution_count": 49,
   "id": "d04aabe5-c3c6-4f31-8e75-92253c334a61",
   "metadata": {},
   "outputs": [
    {
     "name": "stdout",
     "output_type": "stream",
     "text": [
      "[[255. 255. 255. 255. 255. 255. 255. 255. 255. 255.]\n",
      " [255. 255. 255. 255. 255. 255. 255. 255. 255. 255.]\n",
      " [255. 255. 255. 255. 255. 255. 255. 255. 255. 255.]\n",
      " [255. 255. 255. 255. 255. 255. 255. 255. 255. 255.]\n",
      " [255. 255. 255. 255. 255. 255. 255. 255. 255. 255.]\n",
      " [255. 255. 255. 255. 255. 255. 255. 255. 255. 255.]\n",
      " [255. 255. 255. 255. 255. 255. 255. 255. 255. 255.]\n",
      " [255. 255. 255. 255. 255. 255. 255. 255. 255. 255.]\n",
      " [255. 255. 255. 255. 255. 255. 255. 255. 255. 255.]\n",
      " [255. 255. 255. 255. 255. 255. 255. 255. 255. 255.]]\n",
      "[[255 255 255 255 255 255 255 255 255 255]\n",
      " [255 255 255 255 255 255 255 255 255 255]\n",
      " [255 255 255 255 255 255 255 255 255 255]\n",
      " [255 255 255 255 255 255 255 255 255 255]\n",
      " [255 255 255 255 255 255 255 255 255 255]\n",
      " [255 255 255 255 255 255 255 255 255 255]\n",
      " [255 255 255 255 255 255 255 255 255 255]\n",
      " [255 255 255 255 255 255 255 255 255 255]\n",
      " [255 255 255 255 255 255 255 255 255 255]\n",
      " [255 255 255 255 255 255 255 255 255 255]]\n"
     ]
    }
   ],
   "source": [
    "%run cw10.py"
   ]
  },
  {
   "cell_type": "code",
   "execution_count": null,
   "id": "014f45f9-6f7f-4170-8528-1bb4fd1bd36c",
   "metadata": {},
   "outputs": [],
   "source": []
  },
  {
   "cell_type": "code",
   "execution_count": null,
   "id": "322c94c4-9e76-4195-b809-1bf14267c803",
   "metadata": {},
   "outputs": [],
   "source": []
  }
 ],
 "metadata": {
  "kernelspec": {
   "display_name": "Python 3 (ipykernel)",
   "language": "python",
   "name": "python3"
  },
  "language_info": {
   "codemirror_mode": {
    "name": "ipython",
    "version": 3
   },
   "file_extension": ".py",
   "mimetype": "text/x-python",
   "name": "python",
   "nbconvert_exporter": "python",
   "pygments_lexer": "ipython3",
   "version": "3.14.0"
  }
 },
 "nbformat": 4,
 "nbformat_minor": 5
}
