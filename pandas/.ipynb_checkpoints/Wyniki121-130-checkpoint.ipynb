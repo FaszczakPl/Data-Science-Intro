{
 "cells": [
  {
   "cell_type": "code",
   "execution_count": 4,
   "id": "b7a1af9c-a798-463e-86be-8980a493b0d8",
   "metadata": {},
   "outputs": [
    {
     "name": "stdout",
     "output_type": "stream",
     "text": [
      "0    PLW\n",
      "1    CDR\n",
      "2    11B\n",
      "3    TEN\n",
      "dtype: object\n"
     ]
    }
   ],
   "source": [
    "%run cw121.py"
   ]
  },
  {
   "cell_type": "code",
   "execution_count": 7,
   "id": "2afaa893-07db-417a-8107-4f6d1f4f879c",
   "metadata": {},
   "outputs": [
    {
     "name": "stdout",
     "output_type": "stream",
     "text": [
      "PLW    387.0\n",
      "CDR    339.5\n",
      "TEN    349.5\n",
      "11B    391.0\n",
      "dtype: float64\n"
     ]
    }
   ],
   "source": [
    "%run cw122.py"
   ]
  },
  {
   "cell_type": "code",
   "execution_count": 10,
   "id": "8f6841ea-19f7-46ea-98b5-f8394ace8a08",
   "metadata": {},
   "outputs": [
    {
     "name": "stdout",
     "output_type": "stream",
     "text": [
      "[387.0, 339.5, 349.5, 391.0]\n"
     ]
    }
   ],
   "source": [
    "%run cw123.py"
   ]
  },
  {
   "cell_type": "code",
   "execution_count": 11,
   "id": "ae3ee3f1-5878-4f79-a238-18f0277fd17d",
   "metadata": {},
   "outputs": [
    {
     "name": "stdout",
     "output_type": "stream",
     "text": [
      "     price\n",
      "PLW  387.0\n",
      "CDR  339.5\n",
      "TEN  349.5\n",
      "11B  391.0\n"
     ]
    }
   ],
   "source": [
    "%run cw124.py"
   ]
  },
  {
   "cell_type": "code",
   "execution_count": 12,
   "id": "31216275-c530-4d67-b60c-f1080ed92c60",
   "metadata": {},
   "outputs": [
    {
     "name": "stdout",
     "output_type": "stream",
     "text": [
      "     price\n",
      "PLW  387.0\n",
      "CDR  339.5\n",
      "TEN  349.5\n",
      "11B  391.0\n"
     ]
    }
   ],
   "source": [
    "%run cw124.py"
   ]
  },
  {
   "cell_type": "code",
   "execution_count": 27,
   "id": "d624c55e-0f71-440e-b3b4-d9c2d64790ac",
   "metadata": {},
   "outputs": [
    {
     "name": "stdout",
     "output_type": "stream",
     "text": [
      "101    10.0\n",
      "102    20.0\n",
      "103    30.0\n",
      "104    40.0\n",
      "105    50.0\n",
      "106    60.0\n",
      "107    70.0\n",
      "108    80.0\n",
      "109    90.0\n",
      "dtype: float64\n"
     ]
    }
   ],
   "source": [
    "%run cw125.py"
   ]
  },
  {
   "cell_type": "code",
   "execution_count": 29,
   "id": "bd81c642-1fd4-47cd-a726-0f64815c1b8f",
   "metadata": {},
   "outputs": [
    {
     "name": "stdout",
     "output_type": "stream",
     "text": [
      "a    1\n",
      "b    2\n",
      "c    3\n",
      "d    4\n",
      "dtype: int64\n"
     ]
    }
   ],
   "source": [
    "%run cw126.py"
   ]
  },
  {
   "cell_type": "code",
   "execution_count": 36,
   "id": "82085866-75ec-40e4-9fc2-cb1aeb8ad86e",
   "metadata": {},
   "outputs": [
    {
     "name": "stdout",
     "output_type": "stream",
     "text": [
      "PLW    387.0\n",
      "CDR    339.5\n",
      "TEN    349.5\n",
      "11B    391.0\n",
      "BBT     25.5\n",
      "F51     19.2\n",
      "dtype: float64\n"
     ]
    }
   ],
   "source": [
    "%run cw127.py"
   ]
  },
  {
   "cell_type": "code",
   "execution_count": 38,
   "id": "4c3a1e2b-9ec0-4e74-90af-c8c1ff7c6c11",
   "metadata": {},
   "outputs": [
    {
     "name": "stdout",
     "output_type": "stream",
     "text": [
      "  ticker  price\n",
      "0    PLW  387.0\n",
      "1    CDR  339.5\n",
      "2    TEN  349.5\n",
      "3    11B  391.0\n",
      "4    BBT   25.5\n",
      "5    F51   19.2\n"
     ]
    }
   ],
   "source": [
    "%run cw128.py"
   ]
  },
  {
   "cell_type": "code",
   "execution_count": 47,
   "id": "8323c95b-4f4a-4f3d-8698-e1f683e26d48",
   "metadata": {},
   "outputs": [
    {
     "name": "stdout",
     "output_type": "stream",
     "text": [
      "       index                 0\n",
      "0     Amazon   (2375, AMZN.US)\n",
      "1  Microsoft  (178.6, MSFT.US)\n",
      "2   Facebook    (179.2, FB.US)\n"
     ]
    }
   ],
   "source": [
    "%run cw129.py"
   ]
  },
  {
   "cell_type": "code",
   "execution_count": 50,
   "id": "d7ceaf00-3b79-4701-8a78-63fc39dda75b",
   "metadata": {},
   "outputs": [
    {
     "name": "stdout",
     "output_type": "stream",
     "text": [
      "            price   ticker\n",
      "company                   \n",
      "Amazon     2375.0  AMZN.US\n",
      "Microsoft   178.6  MSFT.US\n",
      "Facebook    179.2    FB.US\n"
     ]
    }
   ],
   "source": [
    "%run cw130.py"
   ]
  },
  {
   "cell_type": "code",
   "execution_count": null,
   "id": "4298aaf7-9c11-40dd-aacb-a03bbb2e90bc",
   "metadata": {},
   "outputs": [],
   "source": []
  }
 ],
 "metadata": {
  "kernelspec": {
   "display_name": "Python 3 (ipykernel)",
   "language": "python",
   "name": "python3"
  },
  "language_info": {
   "codemirror_mode": {
    "name": "ipython",
    "version": 3
   },
   "file_extension": ".py",
   "mimetype": "text/x-python",
   "name": "python",
   "nbconvert_exporter": "python",
   "pygments_lexer": "ipython3",
   "version": "3.14.0"
  }
 },
 "nbformat": 4,
 "nbformat_minor": 5
}
