{
 "cells": [
  {
   "cell_type": "code",
   "execution_count": 2,
   "id": "c5ebbc37-5ad5-4c95-aec0-299723cb4702",
   "metadata": {},
   "outputs": [],
   "source": [
    "import pandas as pd\n",
    "import numpy as np\n"
   ]
  },
  {
   "cell_type": "code",
   "execution_count": 3,
   "id": "2ccbafd1-7b68-432f-9e0b-bf44f4ce6a66",
   "metadata": {},
   "outputs": [
    {
     "data": {
      "text/plain": [
       "peter    21\n",
       "anna     22\n",
       "dtype: int64"
      ]
     },
     "execution_count": 3,
     "metadata": {},
     "output_type": "execute_result"
    }
   ],
   "source": [
    "data = {'peter':21,'anna':22}\n",
    "data_series = pd.Series(data)\n",
    "data_series"
   ]
  },
  {
   "cell_type": "code",
   "execution_count": 5,
   "id": "9b341dc8-64f0-444b-ac2a-f606b3326adb",
   "metadata": {},
   "outputs": [
    {
     "data": {
      "text/plain": [
       "Index(['peter', 'anna'], dtype='object')"
      ]
     },
     "execution_count": 5,
     "metadata": {},
     "output_type": "execute_result"
    }
   ],
   "source": [
    "data_series.index"
   ]
  },
  {
   "cell_type": "code",
   "execution_count": null,
   "id": "4e848aa8-270b-4934-a6e3-b592f385baf7",
   "metadata": {},
   "outputs": [],
   "source": []
  }
 ],
 "metadata": {
  "kernelspec": {
   "display_name": "Python 3 (ipykernel)",
   "language": "python",
   "name": "python3"
  },
  "language_info": {
   "codemirror_mode": {
    "name": "ipython",
    "version": 3
   },
   "file_extension": ".py",
   "mimetype": "text/x-python",
   "name": "python",
   "nbconvert_exporter": "python",
   "pygments_lexer": "ipython3",
   "version": "3.14.0"
  }
 },
 "nbformat": 4,
 "nbformat_minor": 5
}
