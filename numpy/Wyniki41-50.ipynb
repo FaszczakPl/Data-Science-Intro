{
 "cells": [
  {
   "cell_type": "code",
   "execution_count": 7,
   "id": "35b919a4-76ad-475b-ae2a-eeef788ed59c",
   "metadata": {},
   "outputs": [],
   "source": [
    "import numpy as np"
   ]
  },
  {
   "cell_type": "code",
   "execution_count": 8,
   "id": "c9bd59d2-5261-4228-8dd4-e20749795bef",
   "metadata": {},
   "outputs": [
    {
     "name": "stdout",
     "output_type": "stream",
     "text": [
      "[[4 2 1]\n",
      " [6 4 2]]\n",
      "[[[4 2 1]\n",
      "  [6 4 2]]]\n"
     ]
    }
   ],
   "source": [
    "A = np.array([[4, 2, 1],\n",
    "              [6, 4, 2]])\n",
    "print(A)\n",
    "print(np.expand_dims(A,axis=0))"
   ]
  },
  {
   "cell_type": "code",
   "execution_count": 9,
   "id": "6917d9e6-0ddd-47e9-8f8e-de42f849a765",
   "metadata": {},
   "outputs": [
    {
     "name": "stdout",
     "output_type": "stream",
     "text": [
      "[[[102 220 225]\n",
      "  [ 95 179  61]\n",
      "  [234 203  92]\n",
      "  ...\n",
      "  [ 41  27  87]\n",
      "  [102 225  65]\n",
      "  [170   0 238]]\n",
      "\n",
      " [[169 170 213]\n",
      "  [159  44 250]\n",
      "  [224 206  61]\n",
      "  ...\n",
      "  [162 118  77]\n",
      "  [228  67  21]\n",
      "  [ 68  30  64]]\n",
      "\n",
      " [[237  26 118]\n",
      "  [ 62 157 198]\n",
      "  [  1 151  37]\n",
      "  ...\n",
      "  [218 189  51]\n",
      "  [193 250 243]\n",
      "  [235  34 180]]\n",
      "\n",
      " ...\n",
      "\n",
      " [[116 102 228]\n",
      "  [ 29  75  71]\n",
      "  [156 133  53]\n",
      "  ...\n",
      "  [ 93  45  68]\n",
      "  [124 238  76]\n",
      "  [184 185 202]]\n",
      "\n",
      " [[216 202 116]\n",
      "  [146 168 132]\n",
      "  [236  80  45]\n",
      "  ...\n",
      "  [169 145 212]\n",
      "  [123  50  70]\n",
      "  [ 11  43  62]]\n",
      "\n",
      " [[ 32  52  65]\n",
      "  [155   2  86]\n",
      "  [ 83 240  27]\n",
      "  ...\n",
      "  [ 30  57 175]\n",
      "  [ 72  83 171]\n",
      "  [ 40 114 195]]]\n"
     ]
    }
   ],
   "source": [
    "np.random.seed(42)\n",
    "\n",
    "image = np.random.randint(0,256,(200,300,3),dtype=np.uint8)\n",
    "\n",
    "print(image)"
   ]
  },
  {
   "cell_type": "code",
   "execution_count": 10,
   "id": "c294acff-7895-4511-a070-d25bae971bcf",
   "metadata": {},
   "outputs": [
    {
     "name": "stdout",
     "output_type": "stream",
     "text": [
      "[[[[145  30 244]\n",
      "   [107   6 122]\n",
      "   [201  42  86]\n",
      "   ...\n",
      "   [182 113 173]\n",
      "   [140 196 105]\n",
      "   [123  60 198]]\n",
      "\n",
      "  [[221  40 190]\n",
      "   [175  36 108]\n",
      "   [ 33   0 106]\n",
      "   ...\n",
      "   [ 75 169  71]\n",
      "   [218 180 159]\n",
      "   [ 88  16   4]]\n",
      "\n",
      "  [[141 115 148]\n",
      "   [211  17 146]\n",
      "   [118 201  37]\n",
      "   ...\n",
      "   [ 10 168 141]\n",
      "   [136 119 180]\n",
      "   [134 202  48]]\n",
      "\n",
      "  ...\n",
      "\n",
      "  [[105 148  18]\n",
      "   [178 143 146]\n",
      "   [249 136  32]\n",
      "   ...\n",
      "   [ 80  45 210]\n",
      "   [182 138  93]\n",
      "   [ 93 176 230]]\n",
      "\n",
      "  [[  8  92  85]\n",
      "   [105 188  47]\n",
      "   [188 219 100]\n",
      "   ...\n",
      "   [117 202 126]\n",
      "   [171 254  58]\n",
      "   [ 60 227 231]]\n",
      "\n",
      "  [[ 90  77 134]\n",
      "   [121 220 235]\n",
      "   [ 64 117 152]\n",
      "   ...\n",
      "   [ 60 122  47]\n",
      "   [110 218 233]\n",
      "   [233  85  89]]]]\n"
     ]
    }
   ],
   "source": [
    "image = np.random.randint(0,256,(200,300,3),dtype=np.uint8)\n",
    "\n",
    "image_extended = np.expand_dims(image,axis=0)\n",
    "\n",
    "print(image_extended)"
   ]
  },
  {
   "cell_type": "code",
   "execution_count": 11,
   "id": "a7f8456f-4278-48bd-8eb4-86a1fe590246",
   "metadata": {},
   "outputs": [
    {
     "name": "stdout",
     "output_type": "stream",
     "text": [
      "[[[[ 41 115 118]\n",
      "   [ 84 233 122]\n",
      "   [  9 233 198]\n",
      "   ...\n",
      "   [ 37  99 209]\n",
      "   [211 120 126]\n",
      "   [ 59  79  35]]\n",
      "\n",
      "  [[136 156 232]\n",
      "   [107 217 177]\n",
      "   [129 224  85]\n",
      "   ...\n",
      "   [132  46 214]\n",
      "   [107 200 163]\n",
      "   [121  45 198]]\n",
      "\n",
      "  [[ 58  69 203]\n",
      "   [ 20  13 211]\n",
      "   [254 145  72]\n",
      "   ...\n",
      "   [  6 183 128]\n",
      "   [159 139  20]\n",
      "   [217 117  31]]\n",
      "\n",
      "  ...\n",
      "\n",
      "  [[178  96 176]\n",
      "   [178 151  78]\n",
      "   [175 147 177]\n",
      "   ...\n",
      "   [169 200  37]\n",
      "   [  9 171  29]\n",
      "   [145 143  28]]\n",
      "\n",
      "  [[189 185 126]\n",
      "   [ 59  76 205]\n",
      "   [  9 136  25]\n",
      "   ...\n",
      "   [ 62  31 235]\n",
      "   [104 133 186]\n",
      "   [154  50 165]]\n",
      "\n",
      "  [[157 209 251]\n",
      "   [181 230  48]\n",
      "   [ 21 223 136]\n",
      "   ...\n",
      "   [ 76  88 111]\n",
      "   [211 188  36]\n",
      "   [ 23 111 239]]]\n",
      "\n",
      "\n",
      " [[[ 81  84 180]\n",
      "   [239 195  87]\n",
      "   [ 10 247 246]\n",
      "   ...\n",
      "   [ 49 136  91]\n",
      "   [136 192 105]\n",
      "   [  4 122 161]]\n",
      "\n",
      "  [[121 115 195]\n",
      "   [ 18   3 184]\n",
      "   [253 169 244]\n",
      "   ...\n",
      "   [ 92 136 206]\n",
      "   [ 89  89 113]\n",
      "   [184   1  81]]\n",
      "\n",
      "  [[198 236  19]\n",
      "   [210  50 104]\n",
      "   [ 12  47 217]\n",
      "   ...\n",
      "   [205  24 154]\n",
      "   [241 227 167]\n",
      "   [208 134 145]]\n",
      "\n",
      "  ...\n",
      "\n",
      "  [[107   5  23]\n",
      "   [ 15 113  49]\n",
      "   [209 132 124]\n",
      "   ...\n",
      "   [ 49  68  35]\n",
      "   [123 147 197]\n",
      "   [180 102  30]]\n",
      "\n",
      "  [[244  63 109]\n",
      "   [ 54  81  48]\n",
      "   [ 92  68  76]\n",
      "   ...\n",
      "   [ 73 229  71]\n",
      "   [178 143 234]\n",
      "   [179 104 208]]\n",
      "\n",
      "  [[117 172 184]\n",
      "   [234 161  27]\n",
      "   [ 72 233 138]\n",
      "   ...\n",
      "   [207   8  28]\n",
      "   [132 237  84]\n",
      "   [ 90 122 210]]]]\n"
     ]
    }
   ],
   "source": [
    "image1 = np.random.randint(\n",
    "    low=0, high=256, size=(200, 300, 3), dtype=np.uint8\n",
    ")\n",
    "image2 = np.random.randint(\n",
    "    low=0, high=256, size=(200, 300, 3), dtype=np.uint8\n",
    ")\n",
    "\n",
    "image1_extended = np.expand_dims(image1,axis=0)\n",
    "image2_extended = np.expand_dims(image2,axis=0)\n",
    "\n",
    "images = np.append(image1_extended,image2_extended,axis=0)\n",
    "\n",
    "print(images)"
   ]
  },
  {
   "cell_type": "code",
   "execution_count": 12,
   "id": "2231dc5c-0908-4772-bee6-1fc5f7f8eec0",
   "metadata": {},
   "outputs": [
    {
     "name": "stdout",
     "output_type": "stream",
     "text": [
      "[[1 2 3]\n",
      " [6 3 2]]\n"
     ]
    }
   ],
   "source": [
    "A = np.array([[[1, 2, 3],\n",
    "               [6, 3, 2]]])\n",
    "\n",
    "A = np.squeeze(A,axis=0)\n",
    "print(A)"
   ]
  },
  {
   "cell_type": "code",
   "execution_count": 13,
   "id": "2d5fc782-6838-4344-a8b6-d3d4ed9dc161",
   "metadata": {},
   "outputs": [
    {
     "name": "stdout",
     "output_type": "stream",
     "text": [
      "[0.4 0.9 0.5 0.6]\n"
     ]
    }
   ],
   "source": [
    "A = np.array([[0.4], [0.9], [0.5], [0.6]])\n",
    "\n",
    "print(np.squeeze(A,axis=1))"
   ]
  },
  {
   "cell_type": "code",
   "execution_count": 14,
   "id": "6ed6ac1c-77d2-406d-b0b3-0e35985cf49e",
   "metadata": {},
   "outputs": [
    {
     "name": "stdout",
     "output_type": "stream",
     "text": [
      "[[ 3  2  1  0]\n",
      " [ 7  6  5  4]\n",
      " [11 10  9  8]]\n"
     ]
    }
   ],
   "source": [
    "A = np.arange(12).reshape(-1,4)\n",
    "\n",
    "print(A[:,::-1])"
   ]
  },
  {
   "cell_type": "code",
   "execution_count": 15,
   "id": "b94fdbd8-6389-42cd-9351-948f50f8a8aa",
   "metadata": {},
   "outputs": [
    {
     "name": "stdout",
     "output_type": "stream",
     "text": [
      "[[11 10  9  8]\n",
      " [ 7  6  5  4]\n",
      " [ 3  2  1  0]]\n"
     ]
    }
   ],
   "source": [
    "tab = np.arange(12).reshape(-1,4)\n",
    "\n",
    "print(tab[::-1,::-1])"
   ]
  },
  {
   "cell_type": "code",
   "execution_count": 16,
   "id": "6c24549a-66c2-4916-a90c-5310adadfdc2",
   "metadata": {},
   "outputs": [
    {
     "name": "stdout",
     "output_type": "stream",
     "text": [
      "[[102  95 234   3  14  46  99 212 188 153]\n",
      " [203 214 121 114 239 244  74  14 145 184]\n",
      " [116  85 226 235 151 181 160   6  52  14]\n",
      " [ 76 233 235 213  68 219 129   0 140 147]\n",
      " [ 20  46  19 209  57 156  86  24 235 110]\n",
      " [231 254 218 134 162  73 169  35 242 253]\n",
      " [187 249 201 231 189 116  49  74 189 158]\n",
      " [ 29   7  54 131 181 123 248 119 228  13]\n",
      " [ 50 155  40 120  72 115 167  85 131 242]\n",
      " [ 52 169  13 144 243 167   8  77  22  10]]\n"
     ]
    }
   ],
   "source": [
    "np.random.seed(42)\n",
    "\n",
    "image = np.random.randint(0,256,(10, 10, 3),dtype=np.uint8)\n",
    "\n",
    "\n",
    "print(image[:,:,0])"
   ]
  },
  {
   "cell_type": "code",
   "execution_count": 17,
   "id": "52cff930-c703-4fd0-bbb3-c5ad596ac229",
   "metadata": {},
   "outputs": [
    {
     "name": "stdout",
     "output_type": "stream",
     "text": [
      "[[[129 219  27]\n",
      "  [ 59  83 229]\n",
      "  [ 41 175  91]\n",
      "  [216 179  61]\n",
      "  [110 213 173]]\n",
      "\n",
      " [[195 126   7]\n",
      "  [ 67  76 213]\n",
      "  [174 175 205]\n",
      "  [  8  34 160]\n",
      "  [ 97  44 205]]\n",
      "\n",
      " [[103  15 155]\n",
      "  [169 131  93]\n",
      "  [ 95 193   1]\n",
      "  [ 76 204  79]\n",
      "  [253   3 215]]\n",
      "\n",
      " [[ 84 145  53]\n",
      "  [159  82  47]\n",
      "  [220  37   4]\n",
      "  [  8 190 178]\n",
      "  [ 54 248 145]]\n",
      "\n",
      " [[201 144  40]\n",
      "  [101 189 103]\n",
      "  [ 19 229 227]\n",
      "  [131  57 237]\n",
      "  [ 13 249  15]]]\n"
     ]
    }
   ],
   "source": [
    "\n",
    "image = np.random.randint(0,256,(10, 10, 3),dtype=np.uint8)\n",
    "\n",
    "result = image[:5,:5,:]\n",
    "print(result)"
   ]
  }
 ],
 "metadata": {
  "kernelspec": {
   "display_name": "Python 3 (ipykernel)",
   "language": "python",
   "name": "python3"
  },
  "language_info": {
   "codemirror_mode": {
    "name": "ipython",
    "version": 3
   },
   "file_extension": ".py",
   "mimetype": "text/x-python",
   "name": "python",
   "nbconvert_exporter": "python",
   "pygments_lexer": "ipython3",
   "version": "3.14.0"
  }
 },
 "nbformat": 4,
 "nbformat_minor": 5
}
