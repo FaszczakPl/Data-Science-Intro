{
 "cells": [
  {
   "cell_type": "code",
   "execution_count": null,
   "id": "1cddce5c-0558-4659-83b1-97b7a2d82c09",
   "metadata": {},
   "outputs": [],
   "source": [
    "import numpy as np"
   ]
  },
  {
   "cell_type": "code",
   "execution_count": 3,
   "id": "d9b7575c-c46b-4875-b57c-9d0300176e14",
   "metadata": {},
   "outputs": [
    {
     "name": "stdout",
     "output_type": "stream",
     "text": [
      "x =  3.0 y =  -2.0\n"
     ]
    }
   ],
   "source": [
    "A = np.array([[5,-3],[1,-2]])\n",
    "B = np.array([21,7])\n",
    "\n",
    "x = np.linalg.solve(A,B)\n",
    "print(\"x = \",x[0].astype(float),\"y = \",x[1].astype(float))"
   ]
  },
  {
   "cell_type": "code",
   "execution_count": 11,
   "id": "f99578bd-317e-49fb-9a65-6dd8a0307ad4",
   "metadata": {},
   "outputs": [
    {
     "name": "stdout",
     "output_type": "stream",
     "text": [
      "x =  0.5  y =  0.88  z =  -0.38\n"
     ]
    }
   ],
   "source": [
    "%run cw102.py"
   ]
  },
  {
   "cell_type": "code",
   "execution_count": 15,
   "id": "2b3e6be8-c5e0-43e7-be26-87e649c470ed",
   "metadata": {},
   "outputs": [
    {
     "name": "stdout",
     "output_type": "stream",
     "text": [
      "[[ 3  4  6]\n",
      " [ 2  5  7]\n",
      " [ 3  8 10]\n",
      " [-3  2  4]]\n"
     ]
    }
   ],
   "source": [
    "%run cw103.py"
   ]
  },
  {
   "cell_type": "code",
   "execution_count": 16,
   "id": "910cd779-50f9-4a55-9bd5-2cacb4e6c53b",
   "metadata": {},
   "outputs": [
    {
     "name": "stdout",
     "output_type": "stream",
     "text": [
      "[11  2  8]\n"
     ]
    }
   ],
   "source": [
    "%run cw104.py"
   ]
  },
  {
   "cell_type": "code",
   "execution_count": 18,
   "id": "dafc497b-b624-4ea0-b46e-4a6a1c4a896b",
   "metadata": {},
   "outputs": [
    {
     "name": "stdout",
     "output_type": "stream",
     "text": [
      "[3 5 7 7]\n"
     ]
    }
   ],
   "source": [
    "%run cw105.py"
   ]
  },
  {
   "cell_type": "code",
   "execution_count": 26,
   "id": "98a94f4d-0af3-4abb-a2f2-2e07adba0459",
   "metadata": {},
   "outputs": [
    {
     "name": "stdout",
     "output_type": "stream",
     "text": [
      "[[0.2   0.5   0.5  ]\n",
      " [0.4   0.    0.625]\n",
      " [1.    0.5   1.   ]\n",
      " [0.    1.    0.   ]]\n"
     ]
    }
   ],
   "source": [
    "%run cw106.py"
   ]
  },
  {
   "cell_type": "code",
   "execution_count": 29,
   "id": "d7e02e56-6ca3-48e3-895d-e8a53c283e52",
   "metadata": {},
   "outputs": [
    {
     "name": "stdout",
     "output_type": "stream",
     "text": [
      "[[ 6  3  4]\n",
      " [ 7  2  5]\n",
      " [10  3  8]\n",
      " [ 2  4 -3]]\n"
     ]
    }
   ],
   "source": [
    "%run cw107.py"
   ]
  },
  {
   "cell_type": "code",
   "execution_count": 32,
   "id": "05e0ae95-ae8a-4bf6-b9f1-2071df158146",
   "metadata": {},
   "outputs": [],
   "source": [
    "%run cw108.py"
   ]
  },
  {
   "cell_type": "code",
   "execution_count": 33,
   "id": "4f92f93e-ae20-451b-96c8-de38bb561dcc",
   "metadata": {},
   "outputs": [
    {
     "name": "stdout",
     "output_type": "stream",
     "text": [
      "14\n"
     ]
    }
   ],
   "source": [
    "%run cw109.py"
   ]
  },
  {
   "cell_type": "code",
   "execution_count": 35,
   "id": "3e0a80ac-1761-48f1-99a3-65050348e565",
   "metadata": {},
   "outputs": [
    {
     "name": "stdout",
     "output_type": "stream",
     "text": [
      "7.14142842854285\n",
      "3.1622776601683795\n"
     ]
    }
   ],
   "source": [
    "%run cw110.py"
   ]
  }
 ],
 "metadata": {
  "kernelspec": {
   "display_name": "Python 3 (ipykernel)",
   "language": "python",
   "name": "python3"
  },
  "language_info": {
   "codemirror_mode": {
    "name": "ipython",
    "version": 3
   },
   "file_extension": ".py",
   "mimetype": "text/x-python",
   "name": "python",
   "nbconvert_exporter": "python",
   "pygments_lexer": "ipython3",
   "version": "3.14.0"
  }
 },
 "nbformat": 4,
 "nbformat_minor": 5
}
