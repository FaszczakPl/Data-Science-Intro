{
 "cells": [
  {
   "cell_type": "code",
   "execution_count": 1,
   "id": "b800e02c-dfd6-40b4-889c-713f26b9b908",
   "metadata": {},
   "outputs": [],
   "source": [
    "import numpy as np"
   ]
  },
  {
   "cell_type": "code",
   "execution_count": 2,
   "id": "4b3e469c-9ee7-4362-a33f-02448137ace3",
   "metadata": {},
   "outputs": [
    {
     "name": "stdout",
     "output_type": "stream",
     "text": [
      "[[3 4 5]\n",
      " [8 3 1]\n",
      " [0 5 2]\n",
      " [4 2 1]]\n"
     ]
    }
   ],
   "source": [
    "import numpy as np\n",
    "\n",
    "A = np.array([[3, 4, 5],\n",
    "              [8, 3, 1]])\n",
    "B = np.array([[0, 5, 2],\n",
    "              [4, 2, 1]])\n",
    "\n",
    "print(np.concatenate((A,B),axis=0))"
   ]
  },
  {
   "cell_type": "code",
   "execution_count": 3,
   "id": "b1a53b62-0492-4326-92b4-43e120025c31",
   "metadata": {},
   "outputs": [
    {
     "name": "stdout",
     "output_type": "stream",
     "text": [
      "[[4.3 4.2 0. ]\n",
      " [3.1 3.6 1. ]]\n"
     ]
    }
   ],
   "source": [
    "import numpy as np\n",
    "\n",
    "data = np.array([[4.3, 4.2],\n",
    "                 [3.1, 3.6]])\n",
    "target = np.array([[0],\n",
    "                   [1]])\n",
    "\n",
    "print(np.concatenate((data,target),axis=1))"
   ]
  },
  {
   "cell_type": "code",
   "execution_count": 4,
   "id": "7afb2844-bfd8-45ed-9d47-2968de61f01e",
   "metadata": {},
   "outputs": [
    {
     "name": "stdout",
     "output_type": "stream",
     "text": [
      "[[1.6 0.4 1.4]\n",
      " [0.9 1.3 0.3]\n",
      " [2.2 3.2 1.2]]\n"
     ]
    }
   ],
   "source": [
    "import numpy as np\n",
    "\n",
    "feature1 = np.array([1.6, 0.9, 2.2])\n",
    "feature2 = np.array([0.4, 1.3, 3.2])\n",
    "feature3 = np.array([1.4, 0.3, 1.2])\n",
    "\n",
    "tab = np.column_stack((feature1,feature2,feature3))\n",
    "print(tab)"
   ]
  },
  {
   "cell_type": "code",
   "execution_count": 5,
   "id": "321a6855-8471-4671-b492-94fd3b67c326",
   "metadata": {},
   "outputs": [
    {
     "name": "stdout",
     "output_type": "stream",
     "text": [
      "[[0 0]\n",
      " [0 0]\n",
      " [0 0]\n",
      " [0 0]\n",
      " [0 0]]\n",
      "[[0 3 1 2]\n",
      " [6 6 3 6]\n",
      " [0 2 2 0]\n",
      " [4 5 5 1]\n",
      " [1 0 5 2]]\n",
      "[[1 1]\n",
      " [1 1]\n",
      " [1 1]\n",
      " [1 1]\n",
      " [1 1]]\n"
     ]
    }
   ],
   "source": [
    "A = np.random.randint(low=0, high=7, size=(5, 8))\n",
    "A[:, :2] = 0\n",
    "A[:, -2:] = 1\n",
    "\n",
    "A1,A2,A3 = np.split(A,[2,-2],axis=1)\n",
    "print(A1)\n",
    "print(A2)\n",
    "print(A3)"
   ]
  },
  {
   "cell_type": "code",
   "execution_count": 6,
   "id": "360bea88-a4aa-47db-a46d-45b65427fae1",
   "metadata": {},
   "outputs": [
    {
     "name": "stdout",
     "output_type": "stream",
     "text": [
      "25\n"
     ]
    }
   ],
   "source": [
    "A = np.random.randint(low=0, high=2, size=(10, 6))\n",
    "\n",
    "print(np.count_nonzero(A))"
   ]
  },
  {
   "cell_type": "code",
   "execution_count": 7,
   "id": "6b176c8c-29ee-4996-a4c2-1f9432f28929",
   "metadata": {},
   "outputs": [
    {
     "name": "stdout",
     "output_type": "stream",
     "text": [
      "[[0 1 1 0 0 0]\n",
      " [0 1 0 0 1 1]\n",
      " [0 0 1 0 0 1]\n",
      " [1 1 1 0 0 1]\n",
      " [1 1 0 1 0 1]\n",
      " [1 0 0 0 0 1]\n",
      " [1 0 1 0 0 1]\n",
      " [0 1 0 0 0 0]\n",
      " [1 0 0 0 1 1]\n",
      " [0 1 0 0 0 0]]\n"
     ]
    }
   ],
   "source": [
    "np.set_printoptions(precision=4)\n",
    "print(A)"
   ]
  },
  {
   "cell_type": "code",
   "execution_count": 8,
   "id": "2c353b29-e486-41f6-9f6a-b53559f7f9b9",
   "metadata": {},
   "outputs": [
    {
     "name": "stdout",
     "output_type": "stream",
     "text": [
      "[0.0000012  0.00000017]\n"
     ]
    }
   ],
   "source": [
    "A = np.array([1.2e-6, 1.7e-7])\n",
    "\n",
    "np.set_printoptions(precision=8,suppress=True)\n",
    "print(A)"
   ]
  },
  {
   "cell_type": "code",
   "execution_count": 9,
   "id": "1e9653d2-077d-415f-8f73-7cfa3e6de9fe",
   "metadata": {},
   "outputs": [
    {
     "name": "stdout",
     "output_type": "stream",
     "text": [
      "[[ 0.49671415 -0.1382643   1.52302986]\n",
      " [-0.23415337 -0.23413696  0.76743473]\n",
      " [-0.46947439  0.54256004 -0.46572975]\n",
      " [ 0.24196227 -1.91328024 -0.56228753]\n",
      " [-1.01283112  0.31424733 -1.4123037 ]\n",
      " [ 1.46564877 -0.2257763  -1.42474819]\n",
      " [-0.54438272  0.11092259  0.37569802]\n",
      " [-0.60063869 -0.29169375  1.85227818]]\n"
     ]
    }
   ],
   "source": [
    "np.random.seed(42)\n",
    "A = np.random.randn(8, 4)\n",
    "\n",
    "A = np.delete(A,[2],axis=1)\n",
    "print(A)"
   ]
  },
  {
   "cell_type": "code",
   "execution_count": 10,
   "id": "a1876746-012d-4092-bbe8-af606dd36672",
   "metadata": {},
   "outputs": [
    {
     "name": "stdout",
     "output_type": "stream",
     "text": [
      "5.385164807134504\n"
     ]
    }
   ],
   "source": [
    "v = np.array([3, 4, -2])\n",
    "\n",
    "print(np.linalg.norm(v))"
   ]
  },
  {
   "cell_type": "code",
   "execution_count": 11,
   "id": "f9947f67-8abe-4f84-93a8-8facb7683467",
   "metadata": {},
   "outputs": [
    {
     "name": "stdout",
     "output_type": "stream",
     "text": [
      "[[6 3 7 4 6 9 2 6 7 4 ... 4 0 9 5 8 0 9 2 6 3]\n",
      " [8 2 4 2 6 4 8 6 1 3 ... 2 0 3 1 7 3 1 5 5 9]\n",
      " [3 5 1 9 1 9 3 7 6 8 ... 6 8 7 0 7 7 2 0 7 2]\n",
      " [2 0 4 9 6 9 8 6 8 7 ... 0 2 4 2 0 4 9 6 6 8]\n",
      " [9 9 2 6 0 3 3 4 6 6 ... 9 6 8 6 0 0 8 8 3 8]\n",
      " [2 6 5 7 8 4 0 2 9 7 ... 2 0 4 0 7 0 0 1 1 5]\n",
      " [6 4 0 0 2 1 4 9 5 6 ... 5 0 8 5 2 3 3 2 9 2]\n",
      " [2 3 6 3 8 0 7 6 1 7 ... 3 0 1 0 4 4 6 8 8 2]\n",
      " [2 2 3 7 5 7 0 7 3 0 ... 1 1 5 2 8 3 0 3 0 4]\n",
      " [3 7 7 6 2 0 0 2 5 6 ... 4 2 3 2 0 0 4 5 2 8]\n",
      " ...\n",
      " [6 4 8 2 0 3 8 3 1 9 ... 8 4 7 1 5 2 9 4 7 9]\n",
      " [0 4 2 3 1 8 2 1 9 8 ... 7 7 6 5 8 3 0 7 6 6]\n",
      " [2 3 9 8 5 4 2 8 4 4 ... 6 1 7 5 3 4 7 2 2 3]\n",
      " [0 8 7 7 9 5 6 5 8 2 ... 2 3 7 5 4 3 7 0 8 0]\n",
      " [7 3 8 4 2 8 8 3 3 7 ... 4 4 3 4 2 0 4 8 8 3]\n",
      " [2 0 1 7 0 7 6 7 5 8 ... 2 3 6 6 3 5 2 5 1 7]\n",
      " [1 6 8 0 7 6 5 5 5 8 ... 2 7 2 3 7 0 5 0 0 7]\n",
      " [3 0 9 6 4 4 0 9 5 8 ... 6 8 6 2 0 7 2 7 7 4]\n",
      " [0 9 6 9 4 7 8 6 6 0 ... 7 3 0 0 9 2 8 6 1 8]\n",
      " [9 1 2 9 1 2 5 8 8 6 ... 8 2 0 6 9 4 4 0 8 6]]\n"
     ]
    }
   ],
   "source": [
    "np.random.seed(42)\n",
    "A = np.random.randint(10, size=(100, 30))\n",
    "np.set_printoptions(edgeitems=10)\n",
    "print(A)"
   ]
  }
 ],
 "metadata": {
  "kernelspec": {
   "display_name": "Python 3 (ipykernel)",
   "language": "python",
   "name": "python3"
  },
  "language_info": {
   "codemirror_mode": {
    "name": "ipython",
    "version": 3
   },
   "file_extension": ".py",
   "mimetype": "text/x-python",
   "name": "python",
   "nbconvert_exporter": "python",
   "pygments_lexer": "ipython3",
   "version": "3.14.0"
  }
 },
 "nbformat": 4,
 "nbformat_minor": 5
}
