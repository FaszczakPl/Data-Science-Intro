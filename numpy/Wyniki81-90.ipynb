{
 "cells": [
  {
   "cell_type": "code",
   "execution_count": 1,
   "id": "b75ce2dc-3a6e-4543-9863-08e1e286e2da",
   "metadata": {},
   "outputs": [],
   "source": [
    "import numpy as np"
   ]
  },
  {
   "cell_type": "code",
   "execution_count": 2,
   "id": "e0e0584f-a786-4940-b170-49ebe30941fd",
   "metadata": {},
   "outputs": [
    {
     "name": "stdout",
     "output_type": "stream",
     "text": [
      "['2020-01-06' '2020-01-13' '2020-01-20' '2020-01-27' '2020-02-03'\n",
      " '2020-02-10' '2020-02-17' '2020-02-24']\n"
     ]
    }
   ],
   "source": [
    "dat = np.arange('2020-01-06','2020-03',dtype='datetime64[D]')\n",
    "\n",
    "print(dat[::7])"
   ]
  },
  {
   "cell_type": "code",
   "execution_count": 3,
   "id": "3438196e-d1a4-45fb-b93f-8a676679da65",
   "metadata": {},
   "outputs": [
    {
     "name": "stdout",
     "output_type": "stream",
     "text": [
      "['001XC' '002YC' '003ZC']\n"
     ]
    }
   ],
   "source": [
    "A = np.array(['001', '002', '003'])\n",
    "B = np.array(['XC', 'YC', 'ZC'])\n",
    "C = np.char.add(A,B)\n",
    "print(C)"
   ]
  },
  {
   "cell_type": "code",
   "execution_count": 4,
   "id": "b1a74fa7-7691-496d-880f-e5b79ad501dd",
   "metadata": {},
   "outputs": [
    {
     "name": "stdout",
     "output_type": "stream",
     "text": [
      "['0001' '0002' '0003']\n"
     ]
    }
   ],
   "source": [
    "A = np.array(['1', '2', '3'])\n",
    "\n",
    "print(np.char.add('000',A))"
   ]
  },
  {
   "cell_type": "code",
   "execution_count": 5,
   "id": "07aa1215-1040-43c9-8e40-3f04bf442b08",
   "metadata": {},
   "outputs": [
    {
     "name": "stdout",
     "output_type": "stream",
     "text": [
      "[[list(['PLW', 'CDR', '11B', 'TEN']) list(['AMC', 'LPP'])]\n",
      " [list(['CDR', 'PKO', 'KGH']) list(['CCC', 'QMK'])]]\n"
     ]
    }
   ],
   "source": [
    "A = np.array([['PLW CDR 11B TEN', 'AMC LPP'],\n",
    "              ['CDR PKO KGH', 'CCC QMK']])\n",
    "\n",
    "print(np.char.split(A,sep=\" \"))"
   ]
  },
  {
   "cell_type": "code",
   "execution_count": 6,
   "id": "eef81d59-d960-4d74-ad6e-32fd330732e6",
   "metadata": {},
   "outputs": [
    {
     "name": "stdout",
     "output_type": "stream",
     "text": [
      "[['summer time mood']\n",
      " ['sport time']]\n"
     ]
    }
   ],
   "source": [
    "A = np.array([['#summer#time#mood'],\n",
    "              ['#sport#time']])\n",
    "\n",
    "A = np.char.replace(A,\"#\",\" \")\n",
    "A = np.char.strip(A)\n",
    "print(A)"
   ]
  },
  {
   "cell_type": "code",
   "execution_count": 7,
   "id": "e23607ab-0eae-4c30-a6c7-519cb8c5118b",
   "metadata": {},
   "outputs": [
    {
     "name": "stdout",
     "output_type": "stream",
     "text": [
      "[[1 0]\n",
      " [1 1]\n",
      " [0 0]]\n"
     ]
    }
   ],
   "source": [
    "A = np.array([['#summer#time#mood', '#vibe'],\n",
    "              ['#sport#time', '#good#time'],\n",
    "              ['#event#summer', '#fast#move']])\n",
    "\n",
    "print(np.char.count(A,\"time\"))"
   ]
  },
  {
   "cell_type": "code",
   "execution_count": 8,
   "id": "88c472cb-afc3-415f-b449-0f74ae86fb1b",
   "metadata": {},
   "outputs": [
    {
     "name": "stdout",
     "output_type": "stream",
     "text": [
      "[['ALIOR    PLALIOR00045    88 860 000    1 386 216 000    0,891    2,16    14']\n",
      " ['CCC    PLCCC0000016    27 918 000    1 292 603 400    0,831    5,28    42']\n",
      " ['CDPROJEKT    PLOPTTC00011    67 348 000    22 864 646 000    14,702    7,39    7']\n",
      " ['CYFRPLSAT    PLCFRPT00013    275 301 000    6 854 994 900    4,408    1,17    14']\n",
      " ['DINOPL    PLDINPL00011    47 937 000    8 916 282 000    5,733    9,13    12']\n",
      " ['JSW    PLJSW0000015    52 636 000    716 902 320    0,461    1,51    24']\n",
      " ['KGHM    PLKGHM000017    136 410 000    9 881 540 400    6,354    4,78    8']\n",
      " ['LOTOS    PLLOTOS00025    86 543 000    5 609 717 260    3,607    2,91    16']\n",
      " ['LPP    PLLPP0000011    1 306 000    7 444 200 000    4,787    1,43    19']\n",
      " ['MBANK    PLBRE0000012    12 997 000    2 830 746 600    1,820    0,42    24']\n",
      " ['ORANGEPL    PLTLKPL00017    647 357 000    4 285 503 340    2,756    1,16    13']\n",
      " ['PEKAO    PLPEKAO00016    176 379 000    9 619 710 660    6,185    5,27    9']\n",
      " ['PGE    PLPGER000010    796 776 000    3 561 588 720    2,290    2,88    18']\n",
      " ['PGNIG    PLPGNIG00014    1 624 608 000    6 072 784 704    3,905    1,56    12']\n",
      " ['PKNORLEN    PLPKN0000018    289 049 000    17 701 360 760    11,382    12,44    8']\n",
      " ['PKOBP    PLPKO0000016    857 593 000    18 807 014 490    12,093    10,49    9']\n",
      " ['PLAY    LU1642887738    114 151 000    3 696 209 380    2,377    1,47    16']\n",
      " ['PZU    PLPZU0000011    568 305 000    17 515 160 100    11,262    6,64    6']\n",
      " ['SANPL    PLBZ00000044    33 207 000    5 213 499 000    3,352    1,91    18']\n",
      " ['TAURONPE    PLTAURN00011    1 043 590 000    1 252 308 000    0,805    1,21    33']]\n"
     ]
    }
   ],
   "source": [
    "text = \"\"\"ALIOR    PLALIOR00045    88 860 000    1 386 216 000    0,891    2,16    14\n",
    "CCC    PLCCC0000016    27 918 000    1 292 603 400    0,831    5,28    42\n",
    "CDPROJEKT    PLOPTTC00011    67 348 000    22 864 646 000    14,702    7,39    7\n",
    "CYFRPLSAT    PLCFRPT00013    275 301 000    6 854 994 900    4,408    1,17    14\n",
    "DINOPL    PLDINPL00011    47 937 000    8 916 282 000    5,733    9,13    12\n",
    "JSW    PLJSW0000015    52 636 000    716 902 320    0,461    1,51    24\n",
    "KGHM    PLKGHM000017    136 410 000    9 881 540 400    6,354    4,78    8\n",
    "LOTOS    PLLOTOS00025    86 543 000    5 609 717 260    3,607    2,91    16\n",
    "LPP    PLLPP0000011    1 306 000    7 444 200 000    4,787    1,43    19\n",
    "MBANK    PLBRE0000012    12 997 000    2 830 746 600    1,820    0,42    24\n",
    "ORANGEPL    PLTLKPL00017    647 357 000    4 285 503 340    2,756    1,16    13\n",
    "PEKAO    PLPEKAO00016    176 379 000    9 619 710 660    6,185    5,27    9\n",
    "PGE    PLPGER000010    796 776 000    3 561 588 720    2,290    2,88    18\n",
    "PGNIG    PLPGNIG00014    1 624 608 000    6 072 784 704    3,905    1,56    12\n",
    "PKNORLEN    PLPKN0000018    289 049 000    17 701 360 760    11,382    12,44    8\n",
    "PKOBP    PLPKO0000016    857 593 000    18 807 014 490    12,093    10,49    9\n",
    "PLAY    LU1642887738    114 151 000    3 696 209 380    2,377    1,47    16\n",
    "PZU    PLPZU0000011    568 305 000    17 515 160 100    11,262    6,64    6\n",
    "SANPL    PLBZ00000044    33 207 000    5 213 499 000    3,352    1,91    18\n",
    "TAURONPE    PLTAURN00011    1 043 590 000    1 252 308 000    0,805    1,21    33\"\"\"\n",
    "\n",
    "line = text.splitlines()\n",
    "line = [line.split('\\t') for line in line]\n",
    "result = np.array(line)\n",
    "print(result)"
   ]
  },
  {
   "cell_type": "code",
   "execution_count": 9,
   "id": "ecffc2d2-5fe5-4119-8cf7-3df3fcf3d281",
   "metadata": {},
   "outputs": [
    {
     "name": "stdout",
     "output_type": "stream",
     "text": [
      "[['ALIOR    PLALIOR00045    88 860 000    1 386 216 000    0.891    2.16    14']\n",
      " ['CCC    PLCCC0000016    27 918 000    1 292 603 400    0.831    5.28    42']\n",
      " ['CDPROJEKT    PLOPTTC00011    67 348 000    22 864 646 000    14.702    7.39    7']\n",
      " ['CYFRPLSAT    PLCFRPT00013    275 301 000    6 854 994 900    4.408    1.17    14']\n",
      " ['DINOPL    PLDINPL00011    47 937 000    8 916 282 000    5.733    9.13    12']\n",
      " ['JSW    PLJSW0000015    52 636 000    716 902 320    0.461    1.51    24']\n",
      " ['KGHM    PLKGHM000017    136 410 000    9 881 540 400    6.354    4.78    8']\n",
      " ['LOTOS    PLLOTOS00025    86 543 000    5 609 717 260    3.607    2.91    16']\n",
      " ['LPP    PLLPP0000011    1 306 000    7 444 200 000    4.787    1.43    19']\n",
      " ['MBANK    PLBRE0000012    12 997 000    2 830 746 600    1.820    0.42    24']\n",
      " ['ORANGEPL    PLTLKPL00017    647 357 000    4 285 503 340    2.756    1.16    13']\n",
      " ['PEKAO    PLPEKAO00016    176 379 000    9 619 710 660    6.185    5.27    9']\n",
      " ['PGE    PLPGER000010    796 776 000    3 561 588 720    2.290    2.88    18']\n",
      " ['PGNIG    PLPGNIG00014    1 624 608 000    6 072 784 704    3.905    1.56    12']\n",
      " ['PKNORLEN    PLPKN0000018    289 049 000    17 701 360 760    11.382    12.44    8']\n",
      " ['PKOBP    PLPKO0000016    857 593 000    18 807 014 490    12.093    10.49    9']\n",
      " ['PLAY    LU1642887738    114 151 000    3 696 209 380    2.377    1.47    16']\n",
      " ['PZU    PLPZU0000011    568 305 000    17 515 160 100    11.262    6.64    6']\n",
      " ['SANPL    PLBZ00000044    33 207 000    5 213 499 000    3.352    1.91    18']\n",
      " ['TAURONPE    PLTAURN00011    1 043 590 000    1 252 308 000    0.805    1.21    33']]\n"
     ]
    }
   ],
   "source": [
    "result = np.char.strip(result)\n",
    "result = np.char.replace(result,\",\",\".\")\n",
    "print(result)"
   ]
  },
  {
   "cell_type": "code",
   "execution_count": 17,
   "id": "920616df-13a6-49fa-a259-71760cdb3c10",
   "metadata": {},
   "outputs": [
    {
     "name": "stdout",
     "output_type": "stream",
     "text": [
      "[['PEKAO' 'PLPEKAO00016' '176379000' '9619710660' '6.185' '5.27' '9']\n",
      " ['PGE' 'PLPGER000010' '796776000' '3561588720' '2.290' '2.88' '18']\n",
      " ['PGNIG' 'PLPGNIG00014' '1624608000' '6072784704' '3.905' '1.56' '12']\n",
      " ['PKNORLEN' 'PLPKN0000018' '289049000' '17701360760' '11.382' '12.44'\n",
      "  '8']\n",
      " ['PKOBP' 'PLPKO0000016' '857593000' '18807014490' '12.093' '10.49' '9']\n",
      " ['PLAY' 'LU1642887738' '114151000' '3696209380' '2.377' '1.47' '16']\n",
      " ['PZU' 'PLPZU0000011' '568305000' '17515160100' '11.262' '6.64' '6']]\n"
     ]
    }
   ],
   "source": [
    "stocks_startswith_P = result[np.char.startswith(result[:,0], 'P')]\n",
    "print(stocks_startswith_P)"
   ]
  },
  {
   "cell_type": "code",
   "execution_count": 19,
   "id": "6cac0791-cfee-4d3e-b714-d5beb2a204f5",
   "metadata": {},
   "outputs": [
    {
     "name": "stdout",
     "output_type": "stream",
     "text": [
      "49.49\n"
     ]
    }
   ],
   "source": [
    "stocks_startswith_P = np.array(\n",
    "    [\n",
    "        [\n",
    "            'PEKAO',\n",
    "            'PLPEKAO00016',\n",
    "            '176379000',\n",
    "            '9619710660',\n",
    "            '6.185',\n",
    "            '5.27',\n",
    "            '9',\n",
    "        ],\n",
    "        [\n",
    "            'PGE',\n",
    "            'PLPGER000010',\n",
    "            '796776000',\n",
    "            '3561588720',\n",
    "            '2.290',\n",
    "            '2.88',\n",
    "            '18',\n",
    "        ],\n",
    "        [\n",
    "            'PGNIG',\n",
    "            'PLPGNIG00014',\n",
    "            '1624608000',\n",
    "            '6072784704',\n",
    "            '3.905',\n",
    "            '1.56',\n",
    "            '12',\n",
    "        ],\n",
    "        [\n",
    "            'PKNORLEN',\n",
    "            'PLPKN0000018',\n",
    "            '289049000',\n",
    "            '17701360760',\n",
    "            '11.382',\n",
    "            '12.44',\n",
    "            '8',\n",
    "        ],\n",
    "        [\n",
    "            'PKOBP',\n",
    "            'PLPKO0000016',\n",
    "            '857593000',\n",
    "            '18807014490',\n",
    "            '12.093',\n",
    "            '10.49',\n",
    "            '9',\n",
    "        ],\n",
    "        [\n",
    "            'PLAY',\n",
    "            'LU1642887738',\n",
    "            '114151000',\n",
    "            '3696209380',\n",
    "            '2.377',\n",
    "            '1.47',\n",
    "            '16',\n",
    "        ],\n",
    "        [\n",
    "            'PZU',\n",
    "            'PLPZU0000011',\n",
    "            '568305000',\n",
    "            '17515160100',\n",
    "            '11.262',\n",
    "            '6.64',\n",
    "            '6',\n",
    "        ],\n",
    "    ],\n",
    "    dtype='<U12',\n",
    ")\n",
    "print(np.round(stocks_startswith_P[:,4].astype(float).sum(),2))"
   ]
  },
  {
   "cell_type": "code",
   "execution_count": null,
   "id": "e1deb649-40a9-4173-a14d-acb9e59f6842",
   "metadata": {},
   "outputs": [],
   "source": []
  }
 ],
 "metadata": {
  "kernelspec": {
   "display_name": "Python 3 (ipykernel)",
   "language": "python",
   "name": "python3"
  },
  "language_info": {
   "codemirror_mode": {
    "name": "ipython",
    "version": 3
   },
   "file_extension": ".py",
   "mimetype": "text/x-python",
   "name": "python",
   "nbconvert_exporter": "python",
   "pygments_lexer": "ipython3",
   "version": "3.14.0"
  }
 },
 "nbformat": 4,
 "nbformat_minor": 5
}
