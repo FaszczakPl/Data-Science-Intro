{
 "cells": [
  {
   "cell_type": "code",
   "execution_count": 25,
   "id": "f1a32097-19b8-45de-9bf5-1ba6d2e393cc",
   "metadata": {},
   "outputs": [
    {
     "name": "stdout",
     "output_type": "stream",
     "text": [
      "[[ 3.49  4.99  9.99]\n",
      " [ 1.99  4.99  9.99]\n",
      " [ 2.39  7.29 14.99]]\n",
      "[[ 1.99  2.39  4.99]\n",
      " [ 4.99  3.49  7.29]\n",
      " [14.99  9.99  9.99]]\n"
     ]
    }
   ],
   "source": [
    "%run cw31.py"
   ]
  },
  {
   "cell_type": "code",
   "execution_count": 26,
   "id": "e4cd3d99-8a36-4468-bf95-6689fcdf9d92",
   "metadata": {},
   "outputs": [
    {
     "name": "stdout",
     "output_type": "stream",
     "text": [
      "[ 9.99  9.99 14.99]\n"
     ]
    }
   ],
   "source": [
    "%run cw32.py"
   ]
  },
  {
   "cell_type": "code",
   "execution_count": 27,
   "id": "fc1ee855-c594-4a03-b19a-fea07eae4356",
   "metadata": {},
   "outputs": [
    {
     "name": "stdout",
     "output_type": "stream",
     "text": [
      "[[ 4.99  3.49  9.99]\n",
      " [ 1.99  9.99 10.  ]\n",
      " [10.    2.39  7.29]]\n"
     ]
    }
   ],
   "source": [
    "%run cw33.py"
   ]
  },
  {
   "cell_type": "code",
   "execution_count": 28,
   "id": "14e5615b-eccd-4659-a7e0-2b273b98efe7",
   "metadata": {},
   "outputs": [
    {
     "name": "stdout",
     "output_type": "stream",
     "text": [
      "[ 4.99  3.49  9.99  1.99  9.99 14.99 14.99  2.39  7.29]\n"
     ]
    }
   ],
   "source": [
    "%run cw34.py"
   ]
  },
  {
   "cell_type": "code",
   "execution_count": 29,
   "id": "c13cd21b-9716-4c0e-a78f-26ce72380587",
   "metadata": {},
   "outputs": [
    {
     "name": "stdout",
     "output_type": "stream",
     "text": [
      "[[0. 0. 0.]\n",
      " [0. 0. 0.]\n",
      " [0. 0. 0.]]\n"
     ]
    }
   ],
   "source": [
    "%run cw35.py"
   ]
  },
  {
   "cell_type": "code",
   "execution_count": 30,
   "id": "1452f3b4-3ef7-4e0e-aabd-ddc73347d984",
   "metadata": {},
   "outputs": [
    {
     "name": "stdout",
     "output_type": "stream",
     "text": [
      "[[9.99 9.99 9.99]\n",
      " [9.99 9.99 9.99]\n",
      " [9.99 9.99 9.99]]\n"
     ]
    }
   ],
   "source": [
    "%run cw36.py"
   ]
  },
  {
   "cell_type": "code",
   "execution_count": 31,
   "id": "4077c3c3-e10c-4565-80a3-65794c46c23c",
   "metadata": {},
   "outputs": [
    {
     "name": "stdout",
     "output_type": "stream",
     "text": [
      "[[1. 0. 0. 0. 0.]\n",
      " [1. 1. 0. 0. 0.]\n",
      " [1. 1. 1. 0. 0.]\n",
      " [1. 1. 1. 1. 0.]\n",
      " [1. 1. 1. 1. 1.]]\n"
     ]
    }
   ],
   "source": [
    "%run cw37.py"
   ]
  },
  {
   "cell_type": "code",
   "execution_count": 32,
   "id": "6ccf8580-9956-4d59-9817-aa1f51cb6aae",
   "metadata": {},
   "outputs": [
    {
     "name": "stdout",
     "output_type": "stream",
     "text": [
      "[[[5 1 2 1]\n",
      "  [2 9 1 9]\n",
      "  [7 5 4 1]]\n",
      "\n",
      " [[5 7 9 2]\n",
      "  [9 5 2 4]\n",
      "  [7 6 4 7]]]\n"
     ]
    }
   ],
   "source": [
    "%run cw38.py"
   ]
  },
  {
   "cell_type": "code",
   "execution_count": 33,
   "id": "e8e5083e-9a09-4868-a9bb-7ed5f4964b14",
   "metadata": {},
   "outputs": [
    {
     "name": "stdout",
     "output_type": "stream",
     "text": [
      "[[ 30 239 192 ... 146 172 101]\n",
      " [ 97 251  31 ...  83 122  81]\n",
      " [161 247 231 ... 119 196  16]\n",
      " ...\n",
      " [ 68  38 169 ...  45 255  91]\n",
      " [ 67  56 130 ... 173  83 190]\n",
      " [232  47  18 ... 205 154  55]]\n"
     ]
    }
   ],
   "source": [
    "%run cw39.py"
   ]
  },
  {
   "cell_type": "code",
   "execution_count": 37,
   "id": "03267f19-0aee-45b3-aea4-abc706185562",
   "metadata": {},
   "outputs": [
    {
     "name": "stdout",
     "output_type": "stream",
     "text": [
      "[[  0   3   4 ... 254 254 255]\n",
      " [  0   1   3 ... 254 254 255]\n",
      " [  0   2   2 ... 252 254 255]\n",
      " ...\n",
      " [  1   1   1 ... 251 251 254]\n",
      " [  1   2   2 ... 253 253 253]\n",
      " [  0   1   2 ... 254 255 255]]\n"
     ]
    }
   ],
   "source": [
    "%run cw40.py"
   ]
  },
  {
   "cell_type": "code",
   "execution_count": null,
   "id": "f1703bca-0cbc-44dd-859a-d2d1b965182e",
   "metadata": {},
   "outputs": [],
   "source": []
  }
 ],
 "metadata": {
  "kernelspec": {
   "display_name": "Python 3 (ipykernel)",
   "language": "python",
   "name": "python3"
  },
  "language_info": {
   "codemirror_mode": {
    "name": "ipython",
    "version": 3
   },
   "file_extension": ".py",
   "mimetype": "text/x-python",
   "name": "python",
   "nbconvert_exporter": "python",
   "pygments_lexer": "ipython3",
   "version": "3.14.0"
  }
 },
 "nbformat": 4,
 "nbformat_minor": 5
}
