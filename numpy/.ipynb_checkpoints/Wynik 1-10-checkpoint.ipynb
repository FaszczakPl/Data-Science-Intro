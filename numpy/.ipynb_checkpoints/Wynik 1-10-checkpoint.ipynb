{
 "cells": [
  {
   "cell_type": "code",
   "execution_count": 15,
   "id": "e07d4af9-7cfb-4c66-a62b-16d330591137",
   "metadata": {},
   "outputs": [
    {
     "name": "stdout",
     "output_type": "stream",
     "text": [
      "2.3.3\n"
     ]
    }
   ],
   "source": [
    "import numpy as np\n",
    "print(np.__version__)"
   ]
  },
  {
   "cell_type": "code",
   "execution_count": 16,
   "id": "f8ebe692-98d9-4b6d-8849-c6490b091b9d",
   "metadata": {},
   "outputs": [
    {
     "name": "stdout",
     "output_type": "stream",
     "text": [
      "A:True\n",
      "B:False\n",
      "C:False\n",
      "D:True\n"
     ]
    }
   ],
   "source": [
    "A = np.array([[3, 2, 1, 4],\n",
    "              [5, 2, 1, 6]])\n",
    "\n",
    "B = np.array([[3, 2, 1, 4],\n",
    "              [5, 2, 0, 6]])\n",
    "\n",
    "C = np.array([[True, False, False],\n",
    "              [True, True, True]])\n",
    "D = np.array([0.1, 0.3])\n",
    "\n",
    "list = [(\"A\",A),(\"B\",B),(\"C\",C),(\"D\",D)]\n",
    "for name,array in list:\n",
    "    print(f\"{name}:{np.all(array)}\")"
   ]
  },
  {
   "cell_type": "code",
   "execution_count": 17,
   "id": "0f2042d3-5869-4e8e-9a02-22c93311478c",
   "metadata": {},
   "outputs": [
    {
     "name": "stdout",
     "output_type": "stream",
     "text": [
      "A: [ True  True]\n",
      "B: [ True False]\n",
      "C: [False  True]\n"
     ]
    }
   ],
   "source": [
    "A = np.array([[3, 2, 1, 4],\n",
    "              [5, 2, 1, 6]])\n",
    " \n",
    "B = np.array([[3, 2, 1, 4],\n",
    "              [5, 2, 0, 6]])\n",
    " \n",
    "C = np.array([[True, False, False],\n",
    "              [True, True, True]])\n",
    "\n",
    "list = [(\"A\",A),(\"B\",B),(\"C\",C)]\n",
    "for name,i in list:\n",
    "    print(f\"{name}: {np.all(i,axis=1)}\")"
   ]
  },
  {
   "cell_type": "code",
   "execution_count": 18,
   "id": "3c93007e-57fc-4e9c-8f64-0d8666eacf94",
   "metadata": {},
   "outputs": [
    {
     "name": "stdout",
     "output_type": "stream",
     "text": [
      "A:False\n",
      "B:True\n",
      "C:True\n",
      "D:True\n"
     ]
    }
   ],
   "source": [
    "A = np.array([[0, 0, 0],\n",
    "              [0, 0, 0]])\n",
    " \n",
    "B = np.array([[0, 0, 0],\n",
    "              [0, 1, 0]])\n",
    " \n",
    "C = np.array([[False, False, False],\n",
    "              [True, False, False]])\n",
    " \n",
    "D = np.array([[0.1, 0.0]])\n",
    "\n",
    "list=[(\"A\",A),(\"B\",B),(\"C\",C),(\"D\",D)]\n",
    "for name,i in list:\n",
    "    print(f\"{name}:{np.any(i)}\") "
   ]
  },
  {
   "cell_type": "code",
   "execution_count": 19,
   "id": "303016fb-f2ee-4e14-9e6c-1822b32d6ad7",
   "metadata": {},
   "outputs": [
    {
     "name": "stdout",
     "output_type": "stream",
     "text": [
      "A:[False False False]\n",
      "B:[False  True False]\n",
      "C:[ True False False]\n",
      "D:[ True False]\n"
     ]
    }
   ],
   "source": [
    "A = np.array([[0, 0, 0],\n",
    "              [0, 0, 0]])\n",
    " \n",
    "B = np.array([[0, 0, 0],\n",
    "              [0, 1, 0]])\n",
    " \n",
    "C = np.array([[False, False, False],\n",
    "              [True, False, False]])\n",
    " \n",
    "D = np.array([[0.1, 0.0]])\n",
    "\n",
    "list=[(\"A\",A),(\"B\",B),(\"C\",C),(\"D\",D)]\n",
    "\n",
    "for name,i in list:\n",
    "    print(f\"{name}:{np.any(i,axis=0)}\")"
   ]
  },
  {
   "cell_type": "code",
   "execution_count": 20,
   "id": "b4df71a1-a2e6-428c-8978-ea2bd271ae2f",
   "metadata": {},
   "outputs": [
    {
     "name": "stdout",
     "output_type": "stream",
     "text": [
      "[False False False  True]\n",
      "[False  True False False]\n"
     ]
    }
   ],
   "source": [
    "A = np.array([[3, 2, 1, np.nan],\n",
    "              [5, np.nan, 1, 6]])\n",
    "\n",
    "for i in A:\n",
    "    print(np.isnan(i))"
   ]
  },
  {
   "cell_type": "code",
   "execution_count": 21,
   "id": "3adc19f1-576b-4c34-bd23-29876c0723ca",
   "metadata": {},
   "outputs": [
    {
     "name": "stdout",
     "output_type": "stream",
     "text": [
      "True\n"
     ]
    }
   ],
   "source": [
    "A = np.array([0.4, 0.5, 0.3])\n",
    "B = np.array([0.39999999, 0.5000001, 0.3])\n",
    "\n",
    "print(np.allclose(A,B))"
   ]
  },
  {
   "cell_type": "code",
   "execution_count": 22,
   "id": "e4ae0da0-263e-4447-af76-b2edd8145dd3",
   "metadata": {},
   "outputs": [
    {
     "name": "stdout",
     "output_type": "stream",
     "text": [
      "[False False  True]\n"
     ]
    }
   ],
   "source": [
    "A = np.array([0.4, 0.5, 0.3])\n",
    "B = np.array([0.3999999999, 0.5000000001, 0.3])\n",
    "\n",
    "print(A==B)"
   ]
  },
  {
   "cell_type": "code",
   "execution_count": 23,
   "id": "02a7336d-2d84-402d-a015-e7188b0ede7d",
   "metadata": {},
   "outputs": [
    {
     "name": "stdout",
     "output_type": "stream",
     "text": [
      "[ True False False False]\n"
     ]
    }
   ],
   "source": [
    "A = np.array([0.4, 0.5, 0.3, 0.9])\n",
    "B = np.array([0.38, 0.51, 0.3, 0.91])\n",
    "\n",
    "print(A>B)"
   ]
  },
  {
   "cell_type": "code",
   "execution_count": 24,
   "id": "c131e35e-5a6c-4ab2-a185-2e843b5b6c44",
   "metadata": {},
   "outputs": [
    {
     "name": "stdout",
     "output_type": "stream",
     "text": [
      "[[0 0 0 0]\n",
      " [0 0 0 0]\n",
      " [0 0 0 0]\n",
      " [0 0 0 0]]\n"
     ]
    }
   ],
   "source": [
    "A = np.zeros((4,4),dtype='int')\n",
    "print(A)"
   ]
  },
  {
   "cell_type": "code",
   "execution_count": 25,
   "id": "d04aabe5-c3c6-4f31-8e75-92253c334a61",
   "metadata": {},
   "outputs": [
    {
     "name": "stdout",
     "output_type": "stream",
     "text": [
      "[[255 255 255 255 255 255 255 255 255 255]\n",
      " [255 255 255 255 255 255 255 255 255 255]\n",
      " [255 255 255 255 255 255 255 255 255 255]\n",
      " [255 255 255 255 255 255 255 255 255 255]\n",
      " [255 255 255 255 255 255 255 255 255 255]\n",
      " [255 255 255 255 255 255 255 255 255 255]\n",
      " [255 255 255 255 255 255 255 255 255 255]\n",
      " [255 255 255 255 255 255 255 255 255 255]\n",
      " [255 255 255 255 255 255 255 255 255 255]\n",
      " [255 255 255 255 255 255 255 255 255 255]]\n",
      "\n",
      "\n",
      "[[255 255 255 255 255 255 255 255 255 255]\n",
      " [255 255 255 255 255 255 255 255 255 255]\n",
      " [255 255 255 255 255 255 255 255 255 255]\n",
      " [255 255 255 255 255 255 255 255 255 255]\n",
      " [255 255 255 255 255 255 255 255 255 255]\n",
      " [255 255 255 255 255 255 255 255 255 255]\n",
      " [255 255 255 255 255 255 255 255 255 255]\n",
      " [255 255 255 255 255 255 255 255 255 255]\n",
      " [255 255 255 255 255 255 255 255 255 255]\n",
      " [255 255 255 255 255 255 255 255 255 255]]\n"
     ]
    }
   ],
   "source": [
    "#1roz\n",
    "A = np.ones((10,10),dtype=int)*255\n",
    "print(A)\n",
    "\n",
    "print()\n",
    "#2roz lepsze\n",
    "print()\n",
    "B = np.full((10,10),255)\n",
    "print(B)"
   ]
  }
 ],
 "metadata": {
  "kernelspec": {
   "display_name": "Python 3 (ipykernel)",
   "language": "python",
   "name": "python3"
  },
  "language_info": {
   "codemirror_mode": {
    "name": "ipython",
    "version": 3
   },
   "file_extension": ".py",
   "mimetype": "text/x-python",
   "name": "python",
   "nbconvert_exporter": "python",
   "pygments_lexer": "ipython3",
   "version": "3.14.0"
  }
 },
 "nbformat": 4,
 "nbformat_minor": 5
}
