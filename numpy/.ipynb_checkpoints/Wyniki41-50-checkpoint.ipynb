{
 "cells": [
  {
   "cell_type": "code",
   "execution_count": null,
   "id": "35b919a4-76ad-475b-ae2a-eeef788ed59c",
   "metadata": {},
   "outputs": [],
   "source": [
    "import numpy as np"
   ]
  },
  {
   "cell_type": "code",
   "execution_count": 2,
   "id": "c9bd59d2-5261-4228-8dd4-e20749795bef",
   "metadata": {},
   "outputs": [
    {
     "name": "stdout",
     "output_type": "stream",
     "text": [
      "[[4 2 1]\n",
      " [6 4 2]]\n",
      "[[[4 2 1]\n",
      "  [6 4 2]]]\n"
     ]
    }
   ],
   "source": [
    "A = np.array([[4, 2, 1],\n",
    "              [6, 4, 2]])\n",
    "print(A)\n",
    "print(np.expand_dims(A,axis=0))"
   ]
  },
  {
   "cell_type": "code",
   "execution_count": 4,
   "id": "6917d9e6-0ddd-47e9-8f8e-de42f849a765",
   "metadata": {},
   "outputs": [
    {
     "name": "stdout",
     "output_type": "stream",
     "text": [
      "[[[102 220 225]\n",
      "  [ 95 179  61]\n",
      "  [234 203  92]\n",
      "  ...\n",
      "  [ 41  27  87]\n",
      "  [102 225  65]\n",
      "  [170   0 238]]\n",
      "\n",
      " [[169 170 213]\n",
      "  [159  44 250]\n",
      "  [224 206  61]\n",
      "  ...\n",
      "  [162 118  77]\n",
      "  [228  67  21]\n",
      "  [ 68  30  64]]\n",
      "\n",
      " [[237  26 118]\n",
      "  [ 62 157 198]\n",
      "  [  1 151  37]\n",
      "  ...\n",
      "  [218 189  51]\n",
      "  [193 250 243]\n",
      "  [235  34 180]]\n",
      "\n",
      " ...\n",
      "\n",
      " [[116 102 228]\n",
      "  [ 29  75  71]\n",
      "  [156 133  53]\n",
      "  ...\n",
      "  [ 93  45  68]\n",
      "  [124 238  76]\n",
      "  [184 185 202]]\n",
      "\n",
      " [[216 202 116]\n",
      "  [146 168 132]\n",
      "  [236  80  45]\n",
      "  ...\n",
      "  [169 145 212]\n",
      "  [123  50  70]\n",
      "  [ 11  43  62]]\n",
      "\n",
      " [[ 32  52  65]\n",
      "  [155   2  86]\n",
      "  [ 83 240  27]\n",
      "  ...\n",
      "  [ 30  57 175]\n",
      "  [ 72  83 171]\n",
      "  [ 40 114 195]]]\n"
     ]
    }
   ],
   "source": [
    "np.random.seed(42)\n",
    "\n",
    "image = np.random.randint(0,256,(200,300,3),dtype=np.uint8)\n",
    "\n",
    "print(image)"
   ]
  },
  {
   "cell_type": "code",
   "execution_count": 5,
   "id": "c294acff-7895-4511-a070-d25bae971bcf",
   "metadata": {},
   "outputs": [
    {
     "name": "stdout",
     "output_type": "stream",
     "text": [
      "[[[[145  30 244]\n",
      "   [107   6 122]\n",
      "   [201  42  86]\n",
      "   ...\n",
      "   [182 113 173]\n",
      "   [140 196 105]\n",
      "   [123  60 198]]\n",
      "\n",
      "  [[221  40 190]\n",
      "   [175  36 108]\n",
      "   [ 33   0 106]\n",
      "   ...\n",
      "   [ 75 169  71]\n",
      "   [218 180 159]\n",
      "   [ 88  16   4]]\n",
      "\n",
      "  [[141 115 148]\n",
      "   [211  17 146]\n",
      "   [118 201  37]\n",
      "   ...\n",
      "   [ 10 168 141]\n",
      "   [136 119 180]\n",
      "   [134 202  48]]\n",
      "\n",
      "  ...\n",
      "\n",
      "  [[105 148  18]\n",
      "   [178 143 146]\n",
      "   [249 136  32]\n",
      "   ...\n",
      "   [ 80  45 210]\n",
      "   [182 138  93]\n",
      "   [ 93 176 230]]\n",
      "\n",
      "  [[  8  92  85]\n",
      "   [105 188  47]\n",
      "   [188 219 100]\n",
      "   ...\n",
      "   [117 202 126]\n",
      "   [171 254  58]\n",
      "   [ 60 227 231]]\n",
      "\n",
      "  [[ 90  77 134]\n",
      "   [121 220 235]\n",
      "   [ 64 117 152]\n",
      "   ...\n",
      "   [ 60 122  47]\n",
      "   [110 218 233]\n",
      "   [233  85  89]]]]\n"
     ]
    }
   ],
   "source": [
    "image = np.random.randint(0,256,(200,300,3),dtype=np.uint8)\n",
    "\n",
    "image_extended = np.expand_dims(image,axis=0)\n",
    "\n",
    "print(image_extended)"
   ]
  },
  {
   "cell_type": "code",
   "execution_count": 7,
   "id": "a7f8456f-4278-48bd-8eb4-86a1fe590246",
   "metadata": {},
   "outputs": [
    {
     "name": "stdout",
     "output_type": "stream",
     "text": [
      "[[[[162 128 141]\n",
      "   [224 224  41]\n",
      "   [241  58 241]\n",
      "   ...\n",
      "   [252 219  99]\n",
      "   [ 66 180  11]\n",
      "   [145  20 203]]\n",
      "\n",
      "  [[107  39 183]\n",
      "   [136 216  34]\n",
      "   [ 10  75 125]\n",
      "   ...\n",
      "   [103 249 240]\n",
      "   [158  11  68]\n",
      "   [ 70 115 187]]\n",
      "\n",
      "  [[ 30 105 188]\n",
      "   [145 238   0]\n",
      "   [113  87  10]\n",
      "   ...\n",
      "   [ 53  26  91]\n",
      "   [135 210 108]\n",
      "   [180  36 205]]\n",
      "\n",
      "  ...\n",
      "\n",
      "  [[225   5 215]\n",
      "   [185  11  92]\n",
      "   [186  54 131]\n",
      "   ...\n",
      "   [158  52  93]\n",
      "   [128  15 116]\n",
      "   [173 159  19]]\n",
      "\n",
      "  [[ 22 132 225]\n",
      "   [190 195 240]\n",
      "   [225 151   1]\n",
      "   ...\n",
      "   [191  22 121]\n",
      "   [169 164 174]\n",
      "   [144  97 119]]\n",
      "\n",
      "  [[178  62 141]\n",
      "   [166 158 226]\n",
      "   [175  14  29]\n",
      "   ...\n",
      "   [131  79 126]\n",
      "   [ 79   7  10]\n",
      "   [ 79  22 192]]]\n",
      "\n",
      "\n",
      " [[[ 45  73 176]\n",
      "   [ 35 195  98]\n",
      "   [ 19  85  45]\n",
      "   ...\n",
      "   [139 234 203]\n",
      "   [148  59  32]\n",
      "   [194 123 106]]\n",
      "\n",
      "  [[ 36  57 127]\n",
      "   [109  39  75]\n",
      "   [ 11  16 240]\n",
      "   ...\n",
      "   [196 156 200]\n",
      "   [219 120  30]\n",
      "   [ 63  40 145]]\n",
      "\n",
      "  [[ 48  33 103]\n",
      "   [184 253  11]\n",
      "   [108 173 249]\n",
      "   ...\n",
      "   [122 201 110]\n",
      "   [  9  38  90]\n",
      "   [ 92  41  70]]\n",
      "\n",
      "  ...\n",
      "\n",
      "  [[183  52 227]\n",
      "   [ 67 205   3]\n",
      "   [ 42 217  79]\n",
      "   ...\n",
      "   [152   7 111]\n",
      "   [159  80  15]\n",
      "   [107 200 189]]\n",
      "\n",
      "  [[ 95 179 187]\n",
      "   [173 188  21]\n",
      "   [254 229 143]\n",
      "   ...\n",
      "   [ 93  39  35]\n",
      "   [126 138 110]\n",
      "   [110 206  27]]\n",
      "\n",
      "  [[  8  38 146]\n",
      "   [ 51   2  37]\n",
      "   [ 80 186  50]\n",
      "   ...\n",
      "   [120  21   1]\n",
      "   [140  75  25]\n",
      "   [172 185 175]]]]\n"
     ]
    }
   ],
   "source": [
    "image1 = np.random.randint(\n",
    "    low=0, high=256, size=(200, 300, 3), dtype=np.uint8\n",
    ")\n",
    "image2 = np.random.randint(\n",
    "    low=0, high=256, size=(200, 300, 3), dtype=np.uint8\n",
    ")\n",
    "\n",
    "image1_extended = np.expand_dims(image1,axis=0)\n",
    "image2_extended = np.expand_dims(image2,axis=0)\n",
    "\n",
    "images = np.append(image1_extended,image2_extended,axis=0)\n",
    "\n",
    "print(images)"
   ]
  },
  {
   "cell_type": "code",
   "execution_count": 8,
   "id": "2231dc5c-0908-4772-bee6-1fc5f7f8eec0",
   "metadata": {},
   "outputs": [
    {
     "name": "stdout",
     "output_type": "stream",
     "text": [
      "[[1 2 3]\n",
      " [6 3 2]]\n"
     ]
    }
   ],
   "source": [
    "A = np.array([[[1, 2, 3],\n",
    "               [6, 3, 2]]])\n",
    "\n",
    "A = np.squeeze(A,axis=0)\n",
    "print(A)"
   ]
  },
  {
   "cell_type": "code",
   "execution_count": 9,
   "id": "2d5fc782-6838-4344-a8b6-d3d4ed9dc161",
   "metadata": {},
   "outputs": [
    {
     "name": "stdout",
     "output_type": "stream",
     "text": [
      "[0.4 0.9 0.5 0.6]\n"
     ]
    }
   ],
   "source": [
    "A = np.array([[0.4], [0.9], [0.5], [0.6]])\n",
    "\n",
    "print(np.squeeze(A,axis=1))"
   ]
  },
  {
   "cell_type": "code",
   "execution_count": 11,
   "id": "6ed6ac1c-77d2-406d-b0b3-0e35985cf49e",
   "metadata": {},
   "outputs": [
    {
     "name": "stdout",
     "output_type": "stream",
     "text": [
      "[[ 0  1  2  3]\n",
      " [ 4  5  6  7]\n",
      " [ 8  9 10 11]]\n",
      "[[ 3  2  1  0]\n",
      " [ 7  6  5  4]\n",
      " [11 10  9  8]]\n"
     ]
    }
   ],
   "source": [
    "A = np.arange(12).reshape(-1,4)\n",
    "\n",
    "print(A[:,::-1])"
   ]
  },
  {
   "cell_type": "code",
   "execution_count": 13,
   "id": "b94fdbd8-6389-42cd-9351-948f50f8a8aa",
   "metadata": {},
   "outputs": [
    {
     "name": "stdout",
     "output_type": "stream",
     "text": [
      "[[11 10  9  8]\n",
      " [ 7  6  5  4]\n",
      " [ 3  2  1  0]]\n"
     ]
    }
   ],
   "source": [
    "tab = np.arange(12).reshape(-1,4)\n",
    "\n",
    "print(tab[::-1,::-1])"
   ]
  },
  {
   "cell_type": "code",
   "execution_count": 21,
   "id": "6c24549a-66c2-4916-a90c-5310adadfdc2",
   "metadata": {},
   "outputs": [
    {
     "name": "stdout",
     "output_type": "stream",
     "text": [
      "[[102  95 234   3  14  46  99 212 188 153]\n",
      " [203 214 121 114 239 244  74  14 145 184]\n",
      " [116  85 226 235 151 181 160   6  52  14]\n",
      " [ 76 233 235 213  68 219 129   0 140 147]\n",
      " [ 20  46  19 209  57 156  86  24 235 110]\n",
      " [231 254 218 134 162  73 169  35 242 253]\n",
      " [187 249 201 231 189 116  49  74 189 158]\n",
      " [ 29   7  54 131 181 123 248 119 228  13]\n",
      " [ 50 155  40 120  72 115 167  85 131 242]\n",
      " [ 52 169  13 144 243 167   8  77  22  10]]\n"
     ]
    }
   ],
   "source": [
    "np.random.seed(42)\n",
    "\n",
    "image = np.random.randint(0,256,(10, 10, 3),dtype=np.uint8)\n",
    "\n",
    "\n",
    "print(image[:,:,0])"
   ]
  },
  {
   "cell_type": "code",
   "execution_count": 23,
   "id": "52cff930-c703-4fd0-bbb3-c5ad596ac229",
   "metadata": {},
   "outputs": [
    {
     "name": "stdout",
     "output_type": "stream",
     "text": [
      "[[[162  54 160]\n",
      "  [186 162 241]\n",
      "  [ 72 202  32]\n",
      "  [249 113 197]\n",
      "  [122  49  32]]\n",
      "\n",
      " [[172 166  40]\n",
      "  [152 169  29]\n",
      "  [ 27 204  58]\n",
      "  [234 134  88]\n",
      "  [244 220 200]]\n",
      "\n",
      " [[ 32 204 108]\n",
      "  [ 24  47  92]\n",
      "  [ 69  16 246]\n",
      "  [241 237  94]\n",
      "  [150 137 156]]\n",
      "\n",
      " [[199 186 171]\n",
      "  [ 74  95 151]\n",
      "  [103 247  54]\n",
      "  [163 213  42]\n",
      "  [ 84  70 218]]\n",
      "\n",
      " [[100 186 157]\n",
      "  [ 30 174  31]\n",
      "  [194 248 205]\n",
      "  [ 53 151 182]\n",
      "  [130 106  82]]]\n"
     ]
    }
   ],
   "source": [
    "\n",
    "image = np.random.randint(0,256,(10, 10, 3),dtype=np.uint8)\n",
    "\n",
    "result = image[:5,:5,:]\n",
    "print(result)"
   ]
  },
  {
   "cell_type": "code",
   "execution_count": null,
   "id": "c7799970-9ba5-457d-84a5-b00915f31eac",
   "metadata": {},
   "outputs": [],
   "source": []
  }
 ],
 "metadata": {
  "kernelspec": {
   "display_name": "Python 3 (ipykernel)",
   "language": "python",
   "name": "python3"
  },
  "language_info": {
   "codemirror_mode": {
    "name": "ipython",
    "version": 3
   },
   "file_extension": ".py",
   "mimetype": "text/x-python",
   "name": "python",
   "nbconvert_exporter": "python",
   "pygments_lexer": "ipython3",
   "version": "3.14.0"
  }
 },
 "nbformat": 4,
 "nbformat_minor": 5
}
