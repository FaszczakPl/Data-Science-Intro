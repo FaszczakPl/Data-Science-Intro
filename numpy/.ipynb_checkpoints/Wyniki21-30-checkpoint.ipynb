{
 "cells": [
  {
   "cell_type": "code",
   "execution_count": 2,
   "id": "1f5c9f92-4b21-4fb4-b634-1ec5b2f1c391",
   "metadata": {},
   "outputs": [],
   "source": [
    "import numpy as np"
   ]
  },
  {
   "cell_type": "code",
   "execution_count": 3,
   "id": "32aaaafb-d4f8-4356-be13-e51a7d34ecdc",
   "metadata": {},
   "outputs": [
    {
     "name": "stdout",
     "output_type": "stream",
     "text": [
      "[[ 0  1  2  3]\n",
      " [ 4  5  6  7]\n",
      " [ 8  9 10 11]]\n"
     ]
    }
   ],
   "source": [
    "tab = np.arange(0,12)\n",
    "tab = np.ndarray.reshape(tab,(3,4))\n",
    "\n",
    "np.save('array.npy',tab)\n",
    "\n",
    "B = np.load('array.npy')\n",
    "print(B)"
   ]
  },
  {
   "cell_type": "code",
   "execution_count": 12,
   "id": "90fabf3a-c6a5-4057-b01b-79160c003c10",
   "metadata": {},
   "outputs": [
    {
     "name": "stdout",
     "output_type": "stream",
     "text": [
      "[[ 0.  1.  2.  3.]\n",
      " [ 4.  5.  6.  7.]\n",
      " [ 8.  9. 10. 11.]]\n"
     ]
    }
   ],
   "source": [
    "tab = np.arange(12)\n",
    "tab = np.ndarray.reshape(tab,(3,4))\n",
    "\n",
    "np.savetxt(\"array.txt\",tab,fmt=\"%0.2f\")\n",
    "\n",
    "B = np.loadtxt(\"array.txt\")\n",
    "print(B)"
   ]
  },
  {
   "cell_type": "code",
   "execution_count": 17,
   "id": "176824c7-0c9e-4b78-ad73-df2c40875e51",
   "metadata": {},
   "outputs": [
    {
     "name": "stdout",
     "output_type": "stream",
     "text": [
      "[[0, 1, 2, 3], [4, 5, 6, 7], [8, 9, 10, 11]]\n"
     ]
    }
   ],
   "source": [
    "%run cw23.py"
   ]
  },
  {
   "cell_type": "code",
   "execution_count": 36,
   "id": "bf4ae307-ae65-43c1-a054-2aa738ba9571",
   "metadata": {},
   "outputs": [
    {
     "name": "stdout",
     "output_type": "stream",
     "text": [
      "[[ 8  9 10 11]\n",
      " [ 4  5  6  7]\n",
      " [ 0  1  2  3]]\n",
      "[[ 8  9 10 11]\n",
      " [ 4  5  6  7]\n",
      " [ 0  1  2  3]]\n"
     ]
    }
   ],
   "source": [
    "%run cw24.py"
   ]
  },
  {
   "cell_type": "code",
   "execution_count": 43,
   "id": "c5f0a3af-acbf-444d-8452-2b5a9ed31340",
   "metadata": {},
   "outputs": [
    {
     "name": "stdout",
     "output_type": "stream",
     "text": [
      "[[1. 1. 1. 1.]\n",
      " [1. 1. 1. 1.]\n",
      " [1. 1. 1. 1.]\n",
      " [1. 1. 1. 1.]]\n",
      "\n",
      "[[0. 0. 0. 0. 0. 0.]\n",
      " [0. 1. 1. 1. 1. 0.]\n",
      " [0. 1. 1. 1. 1. 0.]\n",
      " [0. 1. 1. 1. 1. 0.]\n",
      " [0. 1. 1. 1. 1. 0.]\n",
      " [0. 0. 0. 0. 0. 0.]]\n"
     ]
    }
   ],
   "source": [
    "%run cw25.py"
   ]
  },
  {
   "cell_type": "code",
   "execution_count": 58,
   "id": "38939d66-8c7e-43c3-8023-401eb9c21e5d",
   "metadata": {},
   "outputs": [
    {
     "name": "stdout",
     "output_type": "stream",
     "text": [
      "[[0 0 0 0 0 0]\n",
      " [0 0 0 0 0 0]\n",
      " [0 0 0 0 0 0]\n",
      " [0 0 0 0 0 0]\n",
      " [0 0 0 0 0 0]\n",
      " [0 0 0 0 0 0]]\n",
      "[[10  0 10  0 10  0]\n",
      " [ 5  0  5  0  5  0]\n",
      " [10  0 10  0 10  0]\n",
      " [ 5  0  5  0  5  0]\n",
      " [10  0 10  0 10  0]\n",
      " [ 5  0  5  0  5  0]]\n"
     ]
    }
   ],
   "source": [
    "%run cw26.py"
   ]
  },
  {
   "cell_type": "code",
   "execution_count": 70,
   "id": "e9f77572-4f54-4c78-bf82-e492cc5561c2",
   "metadata": {},
   "outputs": [
    {
     "name": "stdout",
     "output_type": "stream",
     "text": [
      "[[ 0  1  2  3]\n",
      " [ 4  5  6  7]\n",
      " [ 8  9 10 11]\n",
      " [ 4  3  7  2]\n",
      " [ 0  5  2  6]]\n"
     ]
    }
   ],
   "source": [
    "%run cw27.py"
   ]
  },
  {
   "cell_type": "code",
   "execution_count": 71,
   "id": "f54875ae-00af-4070-a6ef-b8bc47c484cb",
   "metadata": {},
   "outputs": [
    {
     "name": "stdout",
     "output_type": "stream",
     "text": [
      "[0 2 3]\n"
     ]
    }
   ],
   "source": [
    "%run cw28.py"
   ]
  },
  {
   "cell_type": "code",
   "execution_count": 73,
   "id": "9b522f27-f383-4615-b6bc-d4a2bd5c788f",
   "metadata": {},
   "outputs": [
    {
     "name": "stdout",
     "output_type": "stream",
     "text": [
      "[[5 1 2 1 2]\n",
      " [9 1 9 7 5]\n",
      " [4 1 5 7 9]]\n",
      "[1 2 4 5 7 9]\n"
     ]
    }
   ],
   "source": [
    "%run cw29.py"
   ]
  },
  {
   "cell_type": "code",
   "execution_count": 79,
   "id": "39edbc92-c07e-4df9-a684-adc29cbb5adb",
   "metadata": {},
   "outputs": [
    {
     "name": "stdout",
     "output_type": "stream",
     "text": [
      "0\n",
      "2\n",
      "1\n",
      "[0 2 1]\n"
     ]
    }
   ],
   "source": [
    "%run cw30.py"
   ]
  }
 ],
 "metadata": {
  "kernelspec": {
   "display_name": "Python 3 (ipykernel)",
   "language": "python",
   "name": "python3"
  },
  "language_info": {
   "codemirror_mode": {
    "name": "ipython",
    "version": 3
   },
   "file_extension": ".py",
   "mimetype": "text/x-python",
   "name": "python",
   "nbconvert_exporter": "python",
   "pygments_lexer": "ipython3",
   "version": "3.14.0"
  }
 },
 "nbformat": 4,
 "nbformat_minor": 5
}
