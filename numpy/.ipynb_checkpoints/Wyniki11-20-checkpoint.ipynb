{
 "cells": [
  {
   "cell_type": "code",
   "execution_count": 2,
   "id": "da468c15-9f2d-4e85-b44d-682c0362f1bf",
   "metadata": {},
   "outputs": [],
   "source": [
    "import numpy as np"
   ]
  },
  {
   "cell_type": "code",
   "execution_count": 3,
   "id": "fdc1ebe0-b6a6-498e-a564-43fc8f21dca7",
   "metadata": {},
   "outputs": [
    {
     "name": "stdout",
     "output_type": "stream",
     "text": [
      "[10 11 12 13 14 15 16 17 18 19 20 21 22 23 24 25 26 27 28 29 30 31 32 33\n",
      " 34 35 36 37 38 39 40 41 42 43 44 45 46 47 48 49 50 51 52 53 54 55 56 57\n",
      " 58 59 60 61 62 63 64 65 66 67 68 69 70 71 72 73 74 75 76 77 78 79 80 81\n",
      " 82 83 84 85 86 87 88 89 90 91 92 93 94 95 96 97 98 99]\n"
     ]
    }
   ],
   "source": [
    "#np.arange(start, stop, step)\n",
    "tab = np.arange(start=10,stop=100,step=1)\n",
    "print(tab)"
   ]
  },
  {
   "cell_type": "code",
   "execution_count": 4,
   "id": "10b34657-0c3a-499a-b091-242084bbf9a2",
   "metadata": {},
   "outputs": [
    {
     "name": "stdout",
     "output_type": "stream",
     "text": [
      "[[10 11 12 13 14 15 16 17 18 19]\n",
      " [20 21 22 23 24 25 26 27 28 29]\n",
      " [30 31 32 33 34 35 36 37 38 39]\n",
      " [40 41 42 43 44 45 46 47 48 49]\n",
      " [50 51 52 53 54 55 56 57 58 59]\n",
      " [60 61 62 63 64 65 66 67 68 69]\n",
      " [70 71 72 73 74 75 76 77 78 79]\n",
      " [80 81 82 83 84 85 86 87 88 89]\n",
      " [90 91 92 93 94 95 96 97 98 99]]\n"
     ]
    }
   ],
   "source": [
    "#ndarray.reshape(new_shape)\n",
    "print(np.arange(10,100).reshape(9,10))"
   ]
  },
  {
   "cell_type": "code",
   "execution_count": 5,
   "id": "3aab5fbd-5329-4e48-aff6-c3262caf4f9d",
   "metadata": {},
   "outputs": [
    {
     "name": "stdout",
     "output_type": "stream",
     "text": [
      "[[1 0 0 0 0 0]\n",
      " [0 1 0 0 0 0]\n",
      " [0 0 1 0 0 0]\n",
      " [0 0 0 1 0 0]\n",
      " [0 0 0 0 1 0]\n",
      " [0 0 0 0 0 1]]\n"
     ]
    }
   ],
   "source": [
    "#np.eye(N, M=None, k=0, dtype=float)\n",
    "# N-wiersz, M-kolumna, k-przekatna\n",
    "\n",
    "print(np.eye(6,6,dtype=int))"
   ]
  },
  {
   "cell_type": "code",
   "execution_count": 6,
   "id": "a3f706b2-0511-43ec-96ff-4314d6860ae0",
   "metadata": {},
   "outputs": [
    {
     "name": "stdout",
     "output_type": "stream",
     "text": [
      "[0.77132064 0.02075195 0.63364823 0.74880388 0.49850701 0.22479665\n",
      " 0.19806286 0.76053071 0.16911084 0.08833981 0.68535982 0.95339335\n",
      " 0.00394827 0.51219226 0.81262096 0.61252607 0.72175532 0.29187607\n",
      " 0.91777412 0.71457578 0.54254437 0.14217005 0.37334076 0.67413362\n",
      " 0.44183317 0.43401399 0.61776698 0.51313824 0.65039718 0.60103895]\n"
     ]
    }
   ],
   "source": [
    "np.random.seed(10)\n",
    "tab = np.random.rand(30)\n",
    "print(tab)"
   ]
  },
  {
   "cell_type": "code",
   "execution_count": 7,
   "id": "a114ea8b-8879-4d9d-9c9d-45b83ac8c7c1",
   "metadata": {},
   "outputs": [
    {
     "name": "stdout",
     "output_type": "stream",
     "text": [
      "[[ 0.88389311  0.19586502  0.35753652 -2.34326191]\n",
      " [-1.08483259  0.55969629  0.93946935 -0.97848104]\n",
      " [ 0.50309684  0.40641447  0.32346101 -0.49341088]\n",
      " [-0.79201679 -0.84236793 -1.27950266  0.24571517]\n",
      " [-0.0441948   1.56763255  1.05110868  0.40636843]\n",
      " [-0.1686461  -3.18970279  1.12013226  1.33277821]\n",
      " [-0.24333877 -0.13003071 -0.10901737  1.55618644]\n",
      " [ 0.12877835 -2.06694872 -0.88549315 -1.10457948]\n",
      " [ 0.93286635  2.059838   -0.93493796 -1.61299022]\n",
      " [ 0.52706972 -1.55110074  0.32961334 -1.13652654]]\n"
     ]
    }
   ],
   "source": [
    "np.random.seed(20)\n",
    "\n",
    "tab = np.random.randn(10,4)\n",
    "print(tab)"
   ]
  },
  {
   "cell_type": "code",
   "execution_count": 8,
   "id": "96c582a3-31c2-422a-9d0b-75cf14c7487a",
   "metadata": {},
   "outputs": [
    {
     "name": "stdout",
     "output_type": "stream",
     "text": [
      "[[ 97.17349231 103.41650023  97.82942436 101.05220329]\n",
      " [ 99.7748353  100.67930221  96.14063068 103.544381  ]\n",
      " [100.30029631  97.52499594 103.52901961 100.24037271]\n",
      " [ 98.29153712  98.2666258  103.09437633 101.70027274]\n",
      " [ 99.36127721 101.20382627  95.34026547 102.09694365]\n",
      " [ 99.98708001  98.95468525  99.05410904 102.38025432]\n",
      " [ 93.50787269 103.61547679 103.18753701  98.51356237]\n",
      " [102.20256689  96.19764407  97.54000366  97.05813038]\n",
      " [101.81233513  97.66380453  98.45883627  98.09317768]\n",
      " [102.48979932  95.70413391  98.43161651 101.89861815]]\n"
     ]
    }
   ],
   "source": [
    "np.random.seed(30)\n",
    "\n",
    "x = np.random.randn(10,4)\n",
    "mu = 100\n",
    "sigma = np.sqrt(5)\n",
    "print(sigma*x+mu)\n",
    "\n",
    "#mu – średnia, wokół której liczby się skupiają\n",
    "#sigma – odchylenie standardowe, czyli jak bardzo wartości są rozproszone\n",
    "#x – liczba z rozkładu standardowego N(0,1)"
   ]
  },
  {
   "cell_type": "code",
   "execution_count": 9,
   "id": "59ce1f58-6429-4be5-9e94-8c7a8635f922",
   "metadata": {},
   "outputs": [
    {
     "name": "stdout",
     "output_type": "stream",
     "text": [
      "1\n",
      "4\n",
      "3\n",
      "5\n",
      "2\n",
      "6\n"
     ]
    }
   ],
   "source": [
    "A = np.array([[1, 4, 3],\n",
    "              [5, 2, 6]])\n",
    "\n",
    "for i in np.nditer(A):\n",
    "    print(i)"
   ]
  },
  {
   "cell_type": "code",
   "execution_count": 10,
   "id": "794ca770-663b-4cd3-af2e-20ed4a850d44",
   "metadata": {},
   "outputs": [
    {
     "name": "stdout",
     "output_type": "stream",
     "text": [
      "[0.  0.1 0.2 0.3 0.4 0.5 0.6 0.7 0.8 0.9 1. ]\n"
     ]
    }
   ],
   "source": [
    "#np.linspace(start, stop, num=?-liczba elementow)\n",
    "print(np.linspace(0,1,11))"
   ]
  },
  {
   "cell_type": "code",
   "execution_count": 11,
   "id": "46b3e541-4eb2-4623-a156-8ceb6e416f14",
   "metadata": {},
   "outputs": [
    {
     "name": "stdout",
     "output_type": "stream",
     "text": [
      "[14 46 48 45 18 28]\n"
     ]
    }
   ],
   "source": [
    "np.random.seed(42)\n",
    "\n",
    "print(np.random.choice(range(1,50),size=6,replace=False))"
   ]
  },
  {
   "cell_type": "code",
   "execution_count": 12,
   "id": "8a870a1d-0700-417c-91dd-7f158818a55f",
   "metadata": {},
   "outputs": [
    {
     "name": "stdout",
     "output_type": "stream",
     "text": [
      "[[0 0 0 0 0 0]\n",
      " [0 1 0 0 0 0]\n",
      " [0 0 2 0 0 0]\n",
      " [0 0 0 3 0 0]\n",
      " [0 0 0 0 4 0]\n",
      " [0 0 0 0 0 5]]\n"
     ]
    }
   ],
   "source": [
    "tab = np.arange(6)\n",
    "print(np.diag(tab))"
   ]
  },
  {
   "cell_type": "code",
   "execution_count": null,
   "id": "21ddd191-e89b-47eb-89e1-92b4bea7769f",
   "metadata": {},
   "outputs": [],
   "source": []
  }
 ],
 "metadata": {
  "kernelspec": {
   "display_name": "Python 3 (ipykernel)",
   "language": "python",
   "name": "python3"
  },
  "language_info": {
   "codemirror_mode": {
    "name": "ipython",
    "version": 3
   },
   "file_extension": ".py",
   "mimetype": "text/x-python",
   "name": "python",
   "nbconvert_exporter": "python",
   "pygments_lexer": "ipython3",
   "version": "3.14.0"
  }
 },
 "nbformat": 4,
 "nbformat_minor": 5
}
