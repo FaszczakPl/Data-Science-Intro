{
 "cells": [
  {
   "cell_type": "code",
   "execution_count": 5,
   "id": "4b3e469c-9ee7-4362-a33f-02448137ace3",
   "metadata": {},
   "outputs": [
    {
     "name": "stdout",
     "output_type": "stream",
     "text": [
      "[[3 4 5]\n",
      " [8 3 1]\n",
      " [0 5 2]\n",
      " [4 2 1]]\n"
     ]
    }
   ],
   "source": [
    "%run cw51.py"
   ]
  },
  {
   "cell_type": "code",
   "execution_count": 8,
   "id": "b1a53b62-0492-4326-92b4-43e120025c31",
   "metadata": {},
   "outputs": [
    {
     "name": "stdout",
     "output_type": "stream",
     "text": [
      "[[4.3 4.2 0. ]\n",
      " [3.1 3.6 1. ]]\n"
     ]
    }
   ],
   "source": [
    "%run cw52.py"
   ]
  },
  {
   "cell_type": "code",
   "execution_count": 10,
   "id": "321a6855-8471-4671-b492-94fd3b67c326",
   "metadata": {},
   "outputs": [
    {
     "name": "stdout",
     "output_type": "stream",
     "text": [
      "[[1.6 0.4 1.4]\n",
      " [0.9 1.3 0.3]\n",
      " [2.2 3.2 1.2]]\n"
     ]
    }
   ],
   "source": [
    "%run cw53.py"
   ]
  },
  {
   "cell_type": "code",
   "execution_count": 21,
   "id": "7afb2844-bfd8-45ed-9d47-2968de61f01e",
   "metadata": {},
   "outputs": [
    {
     "name": "stdout",
     "output_type": "stream",
     "text": [
      "[[0 0]\n",
      " [0 0]\n",
      " [0 0]\n",
      " [0 0]\n",
      " [0 0]]\n",
      "[[6 1 3 2]\n",
      " [2 4 3 6]\n",
      " [4 1 0 0]\n",
      " [0 4 6 2]\n",
      " [1 5 6 6]]\n",
      "[[1 1]\n",
      " [1 1]\n",
      " [1 1]\n",
      " [1 1]\n",
      " [1 1]]\n"
     ]
    }
   ],
   "source": [
    "%run cw54.py"
   ]
  },
  {
   "cell_type": "code",
   "execution_count": 22,
   "id": "360bea88-a4aa-47db-a46d-45b65427fae1",
   "metadata": {},
   "outputs": [
    {
     "name": "stdout",
     "output_type": "stream",
     "text": [
      "31\n"
     ]
    }
   ],
   "source": [
    "%run cw55.py"
   ]
  },
  {
   "cell_type": "code",
   "execution_count": 31,
   "id": "6b176c8c-29ee-4996-a4c2-1f9432f28929",
   "metadata": {},
   "outputs": [
    {
     "name": "stdout",
     "output_type": "stream",
     "text": [
      "[[ 0.4967 -0.1383  0.6477  1.523 ]\n",
      " [-0.2342 -0.2341  1.5792  0.7674]\n",
      " [-0.4695  0.5426 -0.4634 -0.4657]\n",
      " [ 0.242  -1.9133 -1.7249 -0.5623]\n",
      " [-1.0128  0.3142 -0.908  -1.4123]\n",
      " [ 1.4656 -0.2258  0.0675 -1.4247]\n",
      " [-0.5444  0.1109 -1.151   0.3757]\n",
      " [-0.6006 -0.2917 -0.6017  1.8523]\n",
      " [-0.0135 -1.0577  0.8225 -1.2208]\n",
      " [ 0.2089 -1.9597 -1.3282  0.1969]]\n",
      "\n",
      "[[ 0.4967 -0.1383  0.6477  1.523 ]\n",
      " [-0.2342 -0.2341  1.5792  0.7674]\n",
      " [-0.4695  0.5426 -0.4634 -0.4657]\n",
      " [ 0.242  -1.9133 -1.7249 -0.5623]\n",
      " [-1.0128  0.3142 -0.908  -1.4123]\n",
      " [ 1.4656 -0.2258  0.0675 -1.4247]\n",
      " [-0.5444  0.1109 -1.151   0.3757]\n",
      " [-0.6006 -0.2917 -0.6017  1.8523]\n",
      " [-0.0135 -1.0577  0.8225 -1.2208]\n",
      " [ 0.2089 -1.9597 -1.3282  0.1969]]\n"
     ]
    }
   ],
   "source": [
    "%run cw56.py"
   ]
  },
  {
   "cell_type": "code",
   "execution_count": 32,
   "id": "2c353b29-e486-41f6-9f6a-b53559f7f9b9",
   "metadata": {},
   "outputs": [
    {
     "name": "stdout",
     "output_type": "stream",
     "text": [
      "[0.0000012  0.00000017]\n"
     ]
    }
   ],
   "source": [
    "%run cw57.py"
   ]
  },
  {
   "cell_type": "code",
   "execution_count": 39,
   "id": "1e9653d2-077d-415f-8f73-7cfa3e6de9fe",
   "metadata": {},
   "outputs": [
    {
     "name": "stdout",
     "output_type": "stream",
     "text": [
      "[[ 0.49671415 -0.1382643   1.52302986]\n",
      " [-0.23415337 -0.23413696  0.76743473]\n",
      " [-0.46947439  0.54256004 -0.46572975]\n",
      " [ 0.24196227 -1.91328024 -0.56228753]\n",
      " [-1.01283112  0.31424733 -1.4123037 ]\n",
      " [ 1.46564877 -0.2257763  -1.42474819]\n",
      " [-0.54438272  0.11092259  0.37569802]\n",
      " [-0.60063869 -0.29169375  1.85227818]]\n"
     ]
    }
   ],
   "source": [
    "%run cw58.py"
   ]
  },
  {
   "cell_type": "code",
   "execution_count": 42,
   "id": "a1876746-012d-4092-bbe8-af606dd36672",
   "metadata": {},
   "outputs": [
    {
     "name": "stdout",
     "output_type": "stream",
     "text": [
      "5.385164807134504\n"
     ]
    }
   ],
   "source": [
    "%run cw59.py"
   ]
  },
  {
   "cell_type": "code",
   "execution_count": 43,
   "id": "f9947f67-8abe-4f84-93a8-8facb7683467",
   "metadata": {},
   "outputs": [
    {
     "name": "stdout",
     "output_type": "stream",
     "text": [
      "[[6 3 7 4 6 9 2 6 7 4 ... 4 0 9 5 8 0 9 2 6 3]\n",
      " [8 2 4 2 6 4 8 6 1 3 ... 2 0 3 1 7 3 1 5 5 9]\n",
      " [3 5 1 9 1 9 3 7 6 8 ... 6 8 7 0 7 7 2 0 7 2]\n",
      " [2 0 4 9 6 9 8 6 8 7 ... 0 2 4 2 0 4 9 6 6 8]\n",
      " [9 9 2 6 0 3 3 4 6 6 ... 9 6 8 6 0 0 8 8 3 8]\n",
      " [2 6 5 7 8 4 0 2 9 7 ... 2 0 4 0 7 0 0 1 1 5]\n",
      " [6 4 0 0 2 1 4 9 5 6 ... 5 0 8 5 2 3 3 2 9 2]\n",
      " [2 3 6 3 8 0 7 6 1 7 ... 3 0 1 0 4 4 6 8 8 2]\n",
      " [2 2 3 7 5 7 0 7 3 0 ... 1 1 5 2 8 3 0 3 0 4]\n",
      " [3 7 7 6 2 0 0 2 5 6 ... 4 2 3 2 0 0 4 5 2 8]\n",
      " ...\n",
      " [6 4 8 2 0 3 8 3 1 9 ... 8 4 7 1 5 2 9 4 7 9]\n",
      " [0 4 2 3 1 8 2 1 9 8 ... 7 7 6 5 8 3 0 7 6 6]\n",
      " [2 3 9 8 5 4 2 8 4 4 ... 6 1 7 5 3 4 7 2 2 3]\n",
      " [0 8 7 7 9 5 6 5 8 2 ... 2 3 7 5 4 3 7 0 8 0]\n",
      " [7 3 8 4 2 8 8 3 3 7 ... 4 4 3 4 2 0 4 8 8 3]\n",
      " [2 0 1 7 0 7 6 7 5 8 ... 2 3 6 6 3 5 2 5 1 7]\n",
      " [1 6 8 0 7 6 5 5 5 8 ... 2 7 2 3 7 0 5 0 0 7]\n",
      " [3 0 9 6 4 4 0 9 5 8 ... 6 8 6 2 0 7 2 7 7 4]\n",
      " [0 9 6 9 4 7 8 6 6 0 ... 7 3 0 0 9 2 8 6 1 8]\n",
      " [9 1 2 9 1 2 5 8 8 6 ... 8 2 0 6 9 4 4 0 8 6]]\n"
     ]
    }
   ],
   "source": [
    "%run cw60.py"
   ]
  },
  {
   "cell_type": "code",
   "execution_count": null,
   "id": "ae5ce6ca-8920-4b82-a6f3-9c7fbbf40998",
   "metadata": {},
   "outputs": [],
   "source": []
  }
 ],
 "metadata": {
  "kernelspec": {
   "display_name": "Python 3 (ipykernel)",
   "language": "python",
   "name": "python3"
  },
  "language_info": {
   "codemirror_mode": {
    "name": "ipython",
    "version": 3
   },
   "file_extension": ".py",
   "mimetype": "text/x-python",
   "name": "python",
   "nbconvert_exporter": "python",
   "pygments_lexer": "ipython3",
   "version": "3.14.0"
  }
 },
 "nbformat": 4,
 "nbformat_minor": 5
}
