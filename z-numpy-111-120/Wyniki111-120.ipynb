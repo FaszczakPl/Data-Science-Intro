{
 "cells": [
  {
   "cell_type": "code",
   "execution_count": 2,
   "id": "e4724f85-c33a-4790-b7da-b495b12f5829",
   "metadata": {},
   "outputs": [
    {
     "name": "stdout",
     "output_type": "stream",
     "text": [
      "7.14142842854285\n",
      "3.1622776601683795\n"
     ]
    }
   ],
   "source": [
    "%run cw111.py"
   ]
  },
  {
   "cell_type": "code",
   "execution_count": 9,
   "id": "fd07d3e4-d62d-4f20-94bf-8ab9d14e7e25",
   "metadata": {},
   "outputs": [
    {
     "name": "stdout",
     "output_type": "stream",
     "text": [
      "1.5707963267948966\n"
     ]
    }
   ],
   "source": [
    "%run cw112.py"
   ]
  },
  {
   "cell_type": "code",
   "execution_count": 11,
   "id": "7da51560-2151-48fe-b4eb-7b0e36842056",
   "metadata": {},
   "outputs": [
    {
     "name": "stdout",
     "output_type": "stream",
     "text": [
      "90.0\n"
     ]
    }
   ],
   "source": [
    "%run cw113.py"
   ]
  },
  {
   "cell_type": "code",
   "execution_count": 16,
   "id": "979e1c36-b734-4343-9c89-e12e92b3d9cc",
   "metadata": {},
   "outputs": [
    {
     "name": "stdout",
     "output_type": "stream",
     "text": [
      "True\n"
     ]
    }
   ],
   "source": [
    "%run cw114.py"
   ]
  },
  {
   "cell_type": "code",
   "execution_count": 17,
   "id": "ab3b6ada-d876-4b0c-996e-ddd0f78f14f9",
   "metadata": {},
   "outputs": [
    {
     "name": "stdout",
     "output_type": "stream",
     "text": [
      "[[  8   6  -2]\n",
      " [ -4  -3   1]\n",
      " [-20 -15   5]]\n"
     ]
    }
   ],
   "source": [
    "%run cw115.py"
   ]
  },
  {
   "cell_type": "code",
   "execution_count": 23,
   "id": "42761c25-36df-4a8d-87e1-982f50243cfb",
   "metadata": {},
   "outputs": [
    {
     "name": "stdout",
     "output_type": "stream",
     "text": [
      "0.0\n"
     ]
    }
   ],
   "source": [
    "%run cw116.py"
   ]
  },
  {
   "cell_type": "code",
   "execution_count": 24,
   "id": "cd45d0e1-26d3-4b7b-8c12-ca4d8892ae03",
   "metadata": {},
   "outputs": [
    {
     "name": "stdout",
     "output_type": "stream",
     "text": [
      "[4. 3. 5. 5. 3.]\n"
     ]
    }
   ],
   "source": [
    "%run cw117.py"
   ]
  },
  {
   "cell_type": "code",
   "execution_count": 30,
   "id": "757723a4-c361-4c30-81d0-d296049f9b54",
   "metadata": {},
   "outputs": [
    {
     "name": "stdout",
     "output_type": "stream",
     "text": [
      "[4. 3. 5. 0. 5. 3. 0.]\n"
     ]
    }
   ],
   "source": [
    "%run cw118.py"
   ]
  },
  {
   "cell_type": "code",
   "execution_count": 31,
   "id": "81aa6e12-634e-4b53-b408-00d688637555",
   "metadata": {},
   "outputs": [
    {
     "name": "stdout",
     "output_type": "stream",
     "text": [
      "[0 2 3 4 5 6 8]\n"
     ]
    }
   ],
   "source": [
    "%run cw119.py"
   ]
  },
  {
   "cell_type": "code",
   "execution_count": 32,
   "id": "528dbd5b-293b-417f-a533-f35ffef7a2c6",
   "metadata": {},
   "outputs": [
    {
     "name": "stdout",
     "output_type": "stream",
     "text": [
      "(array(['nan', 'no', 'yes'], dtype='<U32'), array([4, 1, 0]))\n"
     ]
    }
   ],
   "source": [
    "%run cw120.py"
   ]
  },
  {
   "cell_type": "code",
   "execution_count": null,
   "id": "cd6cf27e-ae3d-472c-8003-bf2168bb09f9",
   "metadata": {},
   "outputs": [],
   "source": []
  }
 ],
 "metadata": {
  "kernelspec": {
   "display_name": "Python 3 (ipykernel)",
   "language": "python",
   "name": "python3"
  },
  "language_info": {
   "codemirror_mode": {
    "name": "ipython",
    "version": 3
   },
   "file_extension": ".py",
   "mimetype": "text/x-python",
   "name": "python",
   "nbconvert_exporter": "python",
   "pygments_lexer": "ipython3",
   "version": "3.14.0"
  }
 },
 "nbformat": 4,
 "nbformat_minor": 5
}
